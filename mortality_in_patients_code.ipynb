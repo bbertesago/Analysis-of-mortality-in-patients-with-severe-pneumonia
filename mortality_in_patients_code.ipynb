{
 "cells": [
  {
   "cell_type": "markdown",
   "id": "ffa87e87",
   "metadata": {},
   "source": [
    "# Settings and import of the dataset"
   ]
  },
  {
   "cell_type": "code",
   "execution_count": 1,
   "id": "df75285e-7a5a-49b1-9f1c-57a88bdd9230",
   "metadata": {},
   "outputs": [],
   "source": [
    "import numpy as np\n",
    "import pandas as pd\n",
    "np.random.seed(12345)\n",
    "import matplotlib.pyplot as plt\n",
    "import csv \n",
    "import seaborn as sns\n",
    "\n",
    "from sklearn.impute import KNNImputer\n",
    "from sklearn.preprocessing import OneHotEncoder, StandardScaler\n",
    "from sklearn.linear_model import LogisticRegression, SGDClassifier\n",
    "from sklearn.model_selection import KFold, train_test_split, cross_val_score, GridSearchCV, cross_val_predict, cross_validate, StratifiedKFold\n",
    "from sklearn.metrics import mean_squared_error,confusion_matrix,ConfusionMatrixDisplay, precision_recall_curve, roc_curve, roc_auc_score\n",
    "from sklearn.metrics import accuracy_score, balanced_accuracy_score, precision_score, recall_score, f1_score\n",
    "from sklearn.ensemble import RandomForestClassifier\n",
    "from sklearn.svm import SVC\n",
    "from sklearn.feature_selection import SequentialFeatureSelector, SelectFromModel, SelectKBest, f_classif, mutual_info_classif\n",
    "\n",
    "kf = KFold(n_splits=5, shuffle=True, random_state=42)\n",
    "\n",
    "pd.set_option('display.max_rows', None)  # to show all rows\n",
    "pd.set_option('display.max_columns', None)  # to show all columns"
   ]
  },
  {
   "cell_type": "code",
   "execution_count": null,
   "id": "abeaf687-b5a9-4941-bdf2-d481035f4d01",
   "metadata": {},
   "outputs": [],
   "source": [
    "# import CarpeDiem dataset\n",
    "dataset_original = pd.read_csv('CarpeDiem_dataset.csv')\n",
    "dataset_original = pd.DataFrame(dataset_original)\n",
    "dataset_original.head()"
   ]
  },
  {
   "cell_type": "code",
   "execution_count": null,
   "id": "12d7d2a2-f645-4ef5-8f90-05f68c205ddc",
   "metadata": {},
   "outputs": [],
   "source": [
    "dataset_original.shape"
   ]
  },
  {
   "cell_type": "code",
   "execution_count": 4,
   "id": "1b6bb5c8-d295-4fbd-8cd0-ea5fa965bc0e",
   "metadata": {},
   "outputs": [
    {
     "data": {
      "text/html": [
       "<div>\n",
       "<style scoped>\n",
       "    .dataframe tbody tr th:only-of-type {\n",
       "        vertical-align: middle;\n",
       "    }\n",
       "\n",
       "    .dataframe tbody tr th {\n",
       "        vertical-align: top;\n",
       "    }\n",
       "\n",
       "    .dataframe thead th {\n",
       "        text-align: right;\n",
       "    }\n",
       "</style>\n",
       "<table border=\"1\" class=\"dataframe\">\n",
       "  <thead>\n",
       "    <tr style=\"text-align: right;\">\n",
       "      <th></th>\n",
       "      <th>Patient_id</th>\n",
       "      <th>External_transfer_flag</th>\n",
       "      <th>Binary_outcome</th>\n",
       "      <th>Age</th>\n",
       "      <th>BMI</th>\n",
       "      <th>Admit_APS_score</th>\n",
       "      <th>Admit_SOFA_score</th>\n",
       "      <th>Cumulative_ICU_days</th>\n",
       "      <th>Number_of_ICU_stays</th>\n",
       "      <th>Tracheostomy_flag</th>\n",
       "      <th>Cumulative_intubation_days</th>\n",
       "      <th>ICU_stay</th>\n",
       "      <th>ICU_day</th>\n",
       "      <th>SOFA_score</th>\n",
       "      <th>ECMO_flag</th>\n",
       "      <th>Intubation_flag</th>\n",
       "      <th>Hemodialysis_flag</th>\n",
       "      <th>CRRT_flag</th>\n",
       "      <th>Temperature</th>\n",
       "      <th>Heart_rate</th>\n",
       "      <th>Systolic_blood_pressure</th>\n",
       "      <th>Diastolic_blood_pressure</th>\n",
       "      <th>Mean_arterial_pressure</th>\n",
       "      <th>Norepinephrine_rate</th>\n",
       "      <th>Norepinephrine_flag</th>\n",
       "      <th>Respiratory_rate</th>\n",
       "      <th>Oxygen_saturation</th>\n",
       "      <th>Urine_output</th>\n",
       "      <th>GCS_eye_opening</th>\n",
       "      <th>GCS_motor_response</th>\n",
       "      <th>GCS_verbal_response</th>\n",
       "      <th>RASS_score</th>\n",
       "      <th>PEEP</th>\n",
       "      <th>FiO2</th>\n",
       "      <th>Plateau_Pressure</th>\n",
       "      <th>Lung_Compliance</th>\n",
       "      <th>PEEP_changes</th>\n",
       "      <th>Respiratory_rate_changes</th>\n",
       "      <th>FiO2_changes</th>\n",
       "      <th>ABG_pH</th>\n",
       "      <th>ABG_PaCO2</th>\n",
       "      <th>ABG_PaO2</th>\n",
       "      <th>PaO2FIO2_ratio</th>\n",
       "      <th>WBC_count</th>\n",
       "      <th>Lymphocytes</th>\n",
       "      <th>Neutrophils</th>\n",
       "      <th>Hemoglobin</th>\n",
       "      <th>Platelets</th>\n",
       "      <th>Bicarbonate</th>\n",
       "      <th>Creatinine</th>\n",
       "      <th>Albumin</th>\n",
       "      <th>Bilirubin</th>\n",
       "      <th>CRP</th>\n",
       "      <th>D_dimer</th>\n",
       "      <th>Ferritin</th>\n",
       "      <th>LDH</th>\n",
       "      <th>Lactic_acid</th>\n",
       "      <th>Procalcitonin</th>\n",
       "      <th>Episode_duration</th>\n",
       "    </tr>\n",
       "  </thead>\n",
       "  <tbody>\n",
       "    <tr>\n",
       "      <th>count</th>\n",
       "      <td>12495.000000</td>\n",
       "      <td>12495.000000</td>\n",
       "      <td>12495.000000</td>\n",
       "      <td>12495.000000</td>\n",
       "      <td>12489.000000</td>\n",
       "      <td>12495.000000</td>\n",
       "      <td>12495.000000</td>\n",
       "      <td>12495.000000</td>\n",
       "      <td>12495.000000</td>\n",
       "      <td>12495.000000</td>\n",
       "      <td>12495.000000</td>\n",
       "      <td>12495.000000</td>\n",
       "      <td>12495.000000</td>\n",
       "      <td>12495.000000</td>\n",
       "      <td>12495.000000</td>\n",
       "      <td>12495.000000</td>\n",
       "      <td>12495.000000</td>\n",
       "      <td>12495.000000</td>\n",
       "      <td>12482.000000</td>\n",
       "      <td>12493.000000</td>\n",
       "      <td>12489.000000</td>\n",
       "      <td>12486.000000</td>\n",
       "      <td>12415.000000</td>\n",
       "      <td>4510.000000</td>\n",
       "      <td>12495.000000</td>\n",
       "      <td>12407.000000</td>\n",
       "      <td>12483.000000</td>\n",
       "      <td>10560.000000</td>\n",
       "      <td>12375.000000</td>\n",
       "      <td>12375.000000</td>\n",
       "      <td>12375.000000</td>\n",
       "      <td>11455.000000</td>\n",
       "      <td>10254.000000</td>\n",
       "      <td>10297.000000</td>\n",
       "      <td>9624.000000</td>\n",
       "      <td>9490.000000</td>\n",
       "      <td>10328.000000</td>\n",
       "      <td>10328.000000</td>\n",
       "      <td>10328.000000</td>\n",
       "      <td>7366.000000</td>\n",
       "      <td>7363.000000</td>\n",
       "      <td>7365.000000</td>\n",
       "      <td>8655.000000</td>\n",
       "      <td>12253.000000</td>\n",
       "      <td>8684.000000</td>\n",
       "      <td>8757.000000</td>\n",
       "      <td>12171.000000</td>\n",
       "      <td>12339.000000</td>\n",
       "      <td>12184.000000</td>\n",
       "      <td>12220.000000</td>\n",
       "      <td>9371.000000</td>\n",
       "      <td>9306.000000</td>\n",
       "      <td>3095.000000</td>\n",
       "      <td>4093.000000</td>\n",
       "      <td>2503.000000</td>\n",
       "      <td>4884.000000</td>\n",
       "      <td>5236.000000</td>\n",
       "      <td>3836.000000</td>\n",
       "      <td>520.000000</td>\n",
       "    </tr>\n",
       "    <tr>\n",
       "      <th>mean</th>\n",
       "      <td>4698.855462</td>\n",
       "      <td>0.414886</td>\n",
       "      <td>0.519168</td>\n",
       "      <td>58.867227</td>\n",
       "      <td>29.685186</td>\n",
       "      <td>85.186955</td>\n",
       "      <td>10.740136</td>\n",
       "      <td>44.468267</td>\n",
       "      <td>1.419528</td>\n",
       "      <td>0.538055</td>\n",
       "      <td>41.086034</td>\n",
       "      <td>1.218808</td>\n",
       "      <td>21.535974</td>\n",
       "      <td>8.708764</td>\n",
       "      <td>0.194638</td>\n",
       "      <td>0.843377</td>\n",
       "      <td>0.051701</td>\n",
       "      <td>0.148699</td>\n",
       "      <td>98.658200</td>\n",
       "      <td>90.697047</td>\n",
       "      <td>119.310300</td>\n",
       "      <td>60.437508</td>\n",
       "      <td>64.002175</td>\n",
       "      <td>0.128788</td>\n",
       "      <td>0.360944</td>\n",
       "      <td>23.343534</td>\n",
       "      <td>96.347616</td>\n",
       "      <td>1394.620218</td>\n",
       "      <td>2.654061</td>\n",
       "      <td>3.932768</td>\n",
       "      <td>1.773657</td>\n",
       "      <td>-1.876604</td>\n",
       "      <td>8.670378</td>\n",
       "      <td>45.293132</td>\n",
       "      <td>25.044455</td>\n",
       "      <td>25.681924</td>\n",
       "      <td>1.615221</td>\n",
       "      <td>1.944520</td>\n",
       "      <td>1.869868</td>\n",
       "      <td>7.395831</td>\n",
       "      <td>45.314019</td>\n",
       "      <td>97.730739</td>\n",
       "      <td>190.441739</td>\n",
       "      <td>12.651123</td>\n",
       "      <td>1.105870</td>\n",
       "      <td>9.688397</td>\n",
       "      <td>8.849277</td>\n",
       "      <td>204.751763</td>\n",
       "      <td>27.064215</td>\n",
       "      <td>1.348228</td>\n",
       "      <td>2.777880</td>\n",
       "      <td>1.352911</td>\n",
       "      <td>155.168533</td>\n",
       "      <td>4359.253013</td>\n",
       "      <td>1223.155733</td>\n",
       "      <td>461.907757</td>\n",
       "      <td>1.706331</td>\n",
       "      <td>2.770665</td>\n",
       "      <td>8.144231</td>\n",
       "    </tr>\n",
       "    <tr>\n",
       "      <th>std</th>\n",
       "      <td>2868.677789</td>\n",
       "      <td>0.492722</td>\n",
       "      <td>0.499652</td>\n",
       "      <td>14.567855</td>\n",
       "      <td>7.900224</td>\n",
       "      <td>31.027350</td>\n",
       "      <td>3.997070</td>\n",
       "      <td>47.358721</td>\n",
       "      <td>0.897537</td>\n",
       "      <td>0.498570</td>\n",
       "      <td>47.755191</td>\n",
       "      <td>0.629677</td>\n",
       "      <td>30.177074</td>\n",
       "      <td>4.654298</td>\n",
       "      <td>0.395938</td>\n",
       "      <td>0.363459</td>\n",
       "      <td>0.221431</td>\n",
       "      <td>0.355806</td>\n",
       "      <td>1.116889</td>\n",
       "      <td>17.118899</td>\n",
       "      <td>16.661961</td>\n",
       "      <td>9.783606</td>\n",
       "      <td>11.341311</td>\n",
       "      <td>0.108735</td>\n",
       "      <td>0.480294</td>\n",
       "      <td>5.922778</td>\n",
       "      <td>2.609185</td>\n",
       "      <td>1124.144962</td>\n",
       "      <td>1.286439</td>\n",
       "      <td>2.175582</td>\n",
       "      <td>1.505526</td>\n",
       "      <td>1.904690</td>\n",
       "      <td>4.240833</td>\n",
       "      <td>16.881449</td>\n",
       "      <td>6.783038</td>\n",
       "      <td>15.130991</td>\n",
       "      <td>0.997959</td>\n",
       "      <td>1.264911</td>\n",
       "      <td>1.070259</td>\n",
       "      <td>0.072107</td>\n",
       "      <td>11.626437</td>\n",
       "      <td>36.032468</td>\n",
       "      <td>104.309716</td>\n",
       "      <td>7.595576</td>\n",
       "      <td>0.846818</td>\n",
       "      <td>6.441786</td>\n",
       "      <td>1.665425</td>\n",
       "      <td>138.163386</td>\n",
       "      <td>5.633402</td>\n",
       "      <td>1.197936</td>\n",
       "      <td>0.567048</td>\n",
       "      <td>1.985188</td>\n",
       "      <td>110.860420</td>\n",
       "      <td>6135.491643</td>\n",
       "      <td>1397.045869</td>\n",
       "      <td>263.234497</td>\n",
       "      <td>1.044975</td>\n",
       "      <td>6.025249</td>\n",
       "      <td>6.631824</td>\n",
       "    </tr>\n",
       "    <tr>\n",
       "      <th>min</th>\n",
       "      <td>43.000000</td>\n",
       "      <td>0.000000</td>\n",
       "      <td>0.000000</td>\n",
       "      <td>19.000000</td>\n",
       "      <td>11.410000</td>\n",
       "      <td>22.000000</td>\n",
       "      <td>0.000000</td>\n",
       "      <td>1.000000</td>\n",
       "      <td>1.000000</td>\n",
       "      <td>0.000000</td>\n",
       "      <td>0.000000</td>\n",
       "      <td>1.000000</td>\n",
       "      <td>1.000000</td>\n",
       "      <td>0.000000</td>\n",
       "      <td>0.000000</td>\n",
       "      <td>0.000000</td>\n",
       "      <td>0.000000</td>\n",
       "      <td>0.000000</td>\n",
       "      <td>90.180000</td>\n",
       "      <td>41.625000</td>\n",
       "      <td>31.000000</td>\n",
       "      <td>23.000000</td>\n",
       "      <td>20.000000</td>\n",
       "      <td>0.003621</td>\n",
       "      <td>0.000000</td>\n",
       "      <td>1.000000</td>\n",
       "      <td>52.500000</td>\n",
       "      <td>0.000000</td>\n",
       "      <td>1.000000</td>\n",
       "      <td>1.000000</td>\n",
       "      <td>1.000000</td>\n",
       "      <td>-5.000000</td>\n",
       "      <td>0.000000</td>\n",
       "      <td>21.000000</td>\n",
       "      <td>7.000000</td>\n",
       "      <td>0.000000</td>\n",
       "      <td>1.000000</td>\n",
       "      <td>1.000000</td>\n",
       "      <td>1.000000</td>\n",
       "      <td>6.920000</td>\n",
       "      <td>16.142857</td>\n",
       "      <td>31.000000</td>\n",
       "      <td>1.760000</td>\n",
       "      <td>0.100000</td>\n",
       "      <td>0.000000</td>\n",
       "      <td>0.000000</td>\n",
       "      <td>5.000000</td>\n",
       "      <td>1.000000</td>\n",
       "      <td>7.750000</td>\n",
       "      <td>0.200000</td>\n",
       "      <td>1.500000</td>\n",
       "      <td>0.100000</td>\n",
       "      <td>1.000000</td>\n",
       "      <td>150.000000</td>\n",
       "      <td>14.400000</td>\n",
       "      <td>85.000000</td>\n",
       "      <td>0.300000</td>\n",
       "      <td>0.050000</td>\n",
       "      <td>1.000000</td>\n",
       "    </tr>\n",
       "    <tr>\n",
       "      <th>25%</th>\n",
       "      <td>2116.000000</td>\n",
       "      <td>0.000000</td>\n",
       "      <td>0.000000</td>\n",
       "      <td>51.000000</td>\n",
       "      <td>24.750000</td>\n",
       "      <td>60.000000</td>\n",
       "      <td>8.000000</td>\n",
       "      <td>17.000000</td>\n",
       "      <td>1.000000</td>\n",
       "      <td>0.000000</td>\n",
       "      <td>13.000000</td>\n",
       "      <td>1.000000</td>\n",
       "      <td>5.000000</td>\n",
       "      <td>5.000000</td>\n",
       "      <td>0.000000</td>\n",
       "      <td>1.000000</td>\n",
       "      <td>0.000000</td>\n",
       "      <td>0.000000</td>\n",
       "      <td>98.000000</td>\n",
       "      <td>78.206897</td>\n",
       "      <td>107.977273</td>\n",
       "      <td>53.819192</td>\n",
       "      <td>58.000000</td>\n",
       "      <td>0.050088</td>\n",
       "      <td>0.000000</td>\n",
       "      <td>19.240000</td>\n",
       "      <td>94.852397</td>\n",
       "      <td>534.500000</td>\n",
       "      <td>1.000000</td>\n",
       "      <td>1.000000</td>\n",
       "      <td>1.000000</td>\n",
       "      <td>-4.000000</td>\n",
       "      <td>5.000000</td>\n",
       "      <td>32.000000</td>\n",
       "      <td>19.750000</td>\n",
       "      <td>13.875000</td>\n",
       "      <td>1.000000</td>\n",
       "      <td>1.000000</td>\n",
       "      <td>1.000000</td>\n",
       "      <td>7.352857</td>\n",
       "      <td>37.267857</td>\n",
       "      <td>75.428571</td>\n",
       "      <td>117.140000</td>\n",
       "      <td>7.800000</td>\n",
       "      <td>0.500000</td>\n",
       "      <td>5.400000</td>\n",
       "      <td>7.650000</td>\n",
       "      <td>98.000000</td>\n",
       "      <td>23.000000</td>\n",
       "      <td>0.570000</td>\n",
       "      <td>2.400000</td>\n",
       "      <td>0.400000</td>\n",
       "      <td>62.000000</td>\n",
       "      <td>848.000000</td>\n",
       "      <td>438.400000</td>\n",
       "      <td>297.000000</td>\n",
       "      <td>1.033333</td>\n",
       "      <td>0.234750</td>\n",
       "      <td>5.000000</td>\n",
       "    </tr>\n",
       "    <tr>\n",
       "      <th>50%</th>\n",
       "      <td>4474.000000</td>\n",
       "      <td>0.000000</td>\n",
       "      <td>1.000000</td>\n",
       "      <td>60.000000</td>\n",
       "      <td>28.700000</td>\n",
       "      <td>90.000000</td>\n",
       "      <td>11.000000</td>\n",
       "      <td>31.000000</td>\n",
       "      <td>1.000000</td>\n",
       "      <td>1.000000</td>\n",
       "      <td>27.000000</td>\n",
       "      <td>1.000000</td>\n",
       "      <td>12.000000</td>\n",
       "      <td>9.000000</td>\n",
       "      <td>0.000000</td>\n",
       "      <td>1.000000</td>\n",
       "      <td>0.000000</td>\n",
       "      <td>0.000000</td>\n",
       "      <td>98.533333</td>\n",
       "      <td>90.000000</td>\n",
       "      <td>116.920000</td>\n",
       "      <td>59.208333</td>\n",
       "      <td>63.000000</td>\n",
       "      <td>0.095913</td>\n",
       "      <td>0.000000</td>\n",
       "      <td>22.913043</td>\n",
       "      <td>96.575758</td>\n",
       "      <td>1190.000000</td>\n",
       "      <td>3.000000</td>\n",
       "      <td>5.000000</td>\n",
       "      <td>1.000000</td>\n",
       "      <td>-1.500000</td>\n",
       "      <td>7.500000</td>\n",
       "      <td>40.000000</td>\n",
       "      <td>24.750000</td>\n",
       "      <td>24.000000</td>\n",
       "      <td>1.000000</td>\n",
       "      <td>1.000000</td>\n",
       "      <td>2.000000</td>\n",
       "      <td>7.404000</td>\n",
       "      <td>44.000000</td>\n",
       "      <td>88.333333</td>\n",
       "      <td>167.500000</td>\n",
       "      <td>11.233333</td>\n",
       "      <td>0.900000</td>\n",
       "      <td>8.400000</td>\n",
       "      <td>8.400000</td>\n",
       "      <td>186.000000</td>\n",
       "      <td>26.500000</td>\n",
       "      <td>0.910000</td>\n",
       "      <td>2.700000</td>\n",
       "      <td>0.700000</td>\n",
       "      <td>139.600000</td>\n",
       "      <td>2245.000000</td>\n",
       "      <td>824.500000</td>\n",
       "      <td>397.000000</td>\n",
       "      <td>1.400000</td>\n",
       "      <td>0.712500</td>\n",
       "      <td>7.000000</td>\n",
       "    </tr>\n",
       "    <tr>\n",
       "      <th>75%</th>\n",
       "      <td>7201.000000</td>\n",
       "      <td>1.000000</td>\n",
       "      <td>1.000000</td>\n",
       "      <td>69.000000</td>\n",
       "      <td>32.920000</td>\n",
       "      <td>108.000000</td>\n",
       "      <td>14.000000</td>\n",
       "      <td>52.000000</td>\n",
       "      <td>2.000000</td>\n",
       "      <td>1.000000</td>\n",
       "      <td>46.000000</td>\n",
       "      <td>1.000000</td>\n",
       "      <td>25.000000</td>\n",
       "      <td>12.000000</td>\n",
       "      <td>0.000000</td>\n",
       "      <td>1.000000</td>\n",
       "      <td>0.000000</td>\n",
       "      <td>0.000000</td>\n",
       "      <td>99.264286</td>\n",
       "      <td>102.666667</td>\n",
       "      <td>128.916667</td>\n",
       "      <td>66.096785</td>\n",
       "      <td>70.000000</td>\n",
       "      <td>0.173244</td>\n",
       "      <td>1.000000</td>\n",
       "      <td>27.338542</td>\n",
       "      <td>98.240000</td>\n",
       "      <td>2030.000000</td>\n",
       "      <td>4.000000</td>\n",
       "      <td>6.000000</td>\n",
       "      <td>1.000000</td>\n",
       "      <td>0.000000</td>\n",
       "      <td>11.500000</td>\n",
       "      <td>52.000000</td>\n",
       "      <td>29.750000</td>\n",
       "      <td>36.000000</td>\n",
       "      <td>2.000000</td>\n",
       "      <td>3.000000</td>\n",
       "      <td>3.000000</td>\n",
       "      <td>7.445000</td>\n",
       "      <td>52.000000</td>\n",
       "      <td>109.500000</td>\n",
       "      <td>240.000000</td>\n",
       "      <td>15.700000</td>\n",
       "      <td>1.500000</td>\n",
       "      <td>12.400000</td>\n",
       "      <td>9.600000</td>\n",
       "      <td>286.000000</td>\n",
       "      <td>31.000000</td>\n",
       "      <td>1.650000</td>\n",
       "      <td>3.100000</td>\n",
       "      <td>1.200000</td>\n",
       "      <td>228.375000</td>\n",
       "      <td>5126.000000</td>\n",
       "      <td>1387.100000</td>\n",
       "      <td>542.250000</td>\n",
       "      <td>2.000000</td>\n",
       "      <td>2.278500</td>\n",
       "      <td>10.000000</td>\n",
       "    </tr>\n",
       "    <tr>\n",
       "      <th>max</th>\n",
       "      <td>9997.000000</td>\n",
       "      <td>1.000000</td>\n",
       "      <td>1.000000</td>\n",
       "      <td>91.000000</td>\n",
       "      <td>82.690000</td>\n",
       "      <td>183.000000</td>\n",
       "      <td>23.000000</td>\n",
       "      <td>245.000000</td>\n",
       "      <td>6.000000</td>\n",
       "      <td>1.000000</td>\n",
       "      <td>245.000000</td>\n",
       "      <td>6.000000</td>\n",
       "      <td>245.000000</td>\n",
       "      <td>23.000000</td>\n",
       "      <td>1.000000</td>\n",
       "      <td>1.000000</td>\n",
       "      <td>1.000000</td>\n",
       "      <td>1.000000</td>\n",
       "      <td>104.025000</td>\n",
       "      <td>158.250000</td>\n",
       "      <td>193.787234</td>\n",
       "      <td>103.000000</td>\n",
       "      <td>121.000000</td>\n",
       "      <td>1.134069</td>\n",
       "      <td>1.000000</td>\n",
       "      <td>50.333333</td>\n",
       "      <td>100.000000</td>\n",
       "      <td>6957.000000</td>\n",
       "      <td>4.000000</td>\n",
       "      <td>6.000000</td>\n",
       "      <td>5.000000</td>\n",
       "      <td>3.000000</td>\n",
       "      <td>26.000000</td>\n",
       "      <td>100.000000</td>\n",
       "      <td>53.250000</td>\n",
       "      <td>99.000000</td>\n",
       "      <td>10.000000</td>\n",
       "      <td>8.000000</td>\n",
       "      <td>8.000000</td>\n",
       "      <td>7.670000</td>\n",
       "      <td>112.000000</td>\n",
       "      <td>473.000000</td>\n",
       "      <td>785.710000</td>\n",
       "      <td>68.100000</td>\n",
       "      <td>6.000000</td>\n",
       "      <td>50.000000</td>\n",
       "      <td>15.000000</td>\n",
       "      <td>799.000000</td>\n",
       "      <td>45.000000</td>\n",
       "      <td>7.970000</td>\n",
       "      <td>6.000000</td>\n",
       "      <td>15.000000</td>\n",
       "      <td>498.000000</td>\n",
       "      <td>39813.000000</td>\n",
       "      <td>9951.100000</td>\n",
       "      <td>1966.000000</td>\n",
       "      <td>7.000000</td>\n",
       "      <td>49.997000</td>\n",
       "      <td>63.000000</td>\n",
       "    </tr>\n",
       "  </tbody>\n",
       "</table>\n",
       "</div>"
      ],
      "text/plain": [
       "         Patient_id  External_transfer_flag  Binary_outcome           Age  \\\n",
       "count  12495.000000            12495.000000    12495.000000  12495.000000   \n",
       "mean    4698.855462                0.414886        0.519168     58.867227   \n",
       "std     2868.677789                0.492722        0.499652     14.567855   \n",
       "min       43.000000                0.000000        0.000000     19.000000   \n",
       "25%     2116.000000                0.000000        0.000000     51.000000   \n",
       "50%     4474.000000                0.000000        1.000000     60.000000   \n",
       "75%     7201.000000                1.000000        1.000000     69.000000   \n",
       "max     9997.000000                1.000000        1.000000     91.000000   \n",
       "\n",
       "                BMI  Admit_APS_score  Admit_SOFA_score  Cumulative_ICU_days  \\\n",
       "count  12489.000000     12495.000000      12495.000000         12495.000000   \n",
       "mean      29.685186        85.186955         10.740136            44.468267   \n",
       "std        7.900224        31.027350          3.997070            47.358721   \n",
       "min       11.410000        22.000000          0.000000             1.000000   \n",
       "25%       24.750000        60.000000          8.000000            17.000000   \n",
       "50%       28.700000        90.000000         11.000000            31.000000   \n",
       "75%       32.920000       108.000000         14.000000            52.000000   \n",
       "max       82.690000       183.000000         23.000000           245.000000   \n",
       "\n",
       "       Number_of_ICU_stays  Tracheostomy_flag  Cumulative_intubation_days  \\\n",
       "count         12495.000000       12495.000000                12495.000000   \n",
       "mean              1.419528           0.538055                   41.086034   \n",
       "std               0.897537           0.498570                   47.755191   \n",
       "min               1.000000           0.000000                    0.000000   \n",
       "25%               1.000000           0.000000                   13.000000   \n",
       "50%               1.000000           1.000000                   27.000000   \n",
       "75%               2.000000           1.000000                   46.000000   \n",
       "max               6.000000           1.000000                  245.000000   \n",
       "\n",
       "           ICU_stay       ICU_day    SOFA_score     ECMO_flag  \\\n",
       "count  12495.000000  12495.000000  12495.000000  12495.000000   \n",
       "mean       1.218808     21.535974      8.708764      0.194638   \n",
       "std        0.629677     30.177074      4.654298      0.395938   \n",
       "min        1.000000      1.000000      0.000000      0.000000   \n",
       "25%        1.000000      5.000000      5.000000      0.000000   \n",
       "50%        1.000000     12.000000      9.000000      0.000000   \n",
       "75%        1.000000     25.000000     12.000000      0.000000   \n",
       "max        6.000000    245.000000     23.000000      1.000000   \n",
       "\n",
       "       Intubation_flag  Hemodialysis_flag     CRRT_flag   Temperature  \\\n",
       "count     12495.000000       12495.000000  12495.000000  12482.000000   \n",
       "mean          0.843377           0.051701      0.148699     98.658200   \n",
       "std           0.363459           0.221431      0.355806      1.116889   \n",
       "min           0.000000           0.000000      0.000000     90.180000   \n",
       "25%           1.000000           0.000000      0.000000     98.000000   \n",
       "50%           1.000000           0.000000      0.000000     98.533333   \n",
       "75%           1.000000           0.000000      0.000000     99.264286   \n",
       "max           1.000000           1.000000      1.000000    104.025000   \n",
       "\n",
       "         Heart_rate  Systolic_blood_pressure  Diastolic_blood_pressure  \\\n",
       "count  12493.000000             12489.000000              12486.000000   \n",
       "mean      90.697047               119.310300                 60.437508   \n",
       "std       17.118899                16.661961                  9.783606   \n",
       "min       41.625000                31.000000                 23.000000   \n",
       "25%       78.206897               107.977273                 53.819192   \n",
       "50%       90.000000               116.920000                 59.208333   \n",
       "75%      102.666667               128.916667                 66.096785   \n",
       "max      158.250000               193.787234                103.000000   \n",
       "\n",
       "       Mean_arterial_pressure  Norepinephrine_rate  Norepinephrine_flag  \\\n",
       "count            12415.000000          4510.000000         12495.000000   \n",
       "mean                64.002175             0.128788             0.360944   \n",
       "std                 11.341311             0.108735             0.480294   \n",
       "min                 20.000000             0.003621             0.000000   \n",
       "25%                 58.000000             0.050088             0.000000   \n",
       "50%                 63.000000             0.095913             0.000000   \n",
       "75%                 70.000000             0.173244             1.000000   \n",
       "max                121.000000             1.134069             1.000000   \n",
       "\n",
       "       Respiratory_rate  Oxygen_saturation  Urine_output  GCS_eye_opening  \\\n",
       "count      12407.000000       12483.000000  10560.000000     12375.000000   \n",
       "mean          23.343534          96.347616   1394.620218         2.654061   \n",
       "std            5.922778           2.609185   1124.144962         1.286439   \n",
       "min            1.000000          52.500000      0.000000         1.000000   \n",
       "25%           19.240000          94.852397    534.500000         1.000000   \n",
       "50%           22.913043          96.575758   1190.000000         3.000000   \n",
       "75%           27.338542          98.240000   2030.000000         4.000000   \n",
       "max           50.333333         100.000000   6957.000000         4.000000   \n",
       "\n",
       "       GCS_motor_response  GCS_verbal_response    RASS_score          PEEP  \\\n",
       "count        12375.000000         12375.000000  11455.000000  10254.000000   \n",
       "mean             3.932768             1.773657     -1.876604      8.670378   \n",
       "std              2.175582             1.505526      1.904690      4.240833   \n",
       "min              1.000000             1.000000     -5.000000      0.000000   \n",
       "25%              1.000000             1.000000     -4.000000      5.000000   \n",
       "50%              5.000000             1.000000     -1.500000      7.500000   \n",
       "75%              6.000000             1.000000      0.000000     11.500000   \n",
       "max              6.000000             5.000000      3.000000     26.000000   \n",
       "\n",
       "               FiO2  Plateau_Pressure  Lung_Compliance  PEEP_changes  \\\n",
       "count  10297.000000       9624.000000      9490.000000  10328.000000   \n",
       "mean      45.293132         25.044455        25.681924      1.615221   \n",
       "std       16.881449          6.783038        15.130991      0.997959   \n",
       "min       21.000000          7.000000         0.000000      1.000000   \n",
       "25%       32.000000         19.750000        13.875000      1.000000   \n",
       "50%       40.000000         24.750000        24.000000      1.000000   \n",
       "75%       52.000000         29.750000        36.000000      2.000000   \n",
       "max      100.000000         53.250000        99.000000     10.000000   \n",
       "\n",
       "       Respiratory_rate_changes  FiO2_changes       ABG_pH    ABG_PaCO2  \\\n",
       "count              10328.000000  10328.000000  7366.000000  7363.000000   \n",
       "mean                   1.944520      1.869868     7.395831    45.314019   \n",
       "std                    1.264911      1.070259     0.072107    11.626437   \n",
       "min                    1.000000      1.000000     6.920000    16.142857   \n",
       "25%                    1.000000      1.000000     7.352857    37.267857   \n",
       "50%                    1.000000      2.000000     7.404000    44.000000   \n",
       "75%                    3.000000      3.000000     7.445000    52.000000   \n",
       "max                    8.000000      8.000000     7.670000   112.000000   \n",
       "\n",
       "          ABG_PaO2  PaO2FIO2_ratio     WBC_count  Lymphocytes  Neutrophils  \\\n",
       "count  7365.000000     8655.000000  12253.000000  8684.000000  8757.000000   \n",
       "mean     97.730739      190.441739     12.651123     1.105870     9.688397   \n",
       "std      36.032468      104.309716      7.595576     0.846818     6.441786   \n",
       "min      31.000000        1.760000      0.100000     0.000000     0.000000   \n",
       "25%      75.428571      117.140000      7.800000     0.500000     5.400000   \n",
       "50%      88.333333      167.500000     11.233333     0.900000     8.400000   \n",
       "75%     109.500000      240.000000     15.700000     1.500000    12.400000   \n",
       "max     473.000000      785.710000     68.100000     6.000000    50.000000   \n",
       "\n",
       "         Hemoglobin     Platelets   Bicarbonate    Creatinine      Albumin  \\\n",
       "count  12171.000000  12339.000000  12184.000000  12220.000000  9371.000000   \n",
       "mean       8.849277    204.751763     27.064215      1.348228     2.777880   \n",
       "std        1.665425    138.163386      5.633402      1.197936     0.567048   \n",
       "min        5.000000      1.000000      7.750000      0.200000     1.500000   \n",
       "25%        7.650000     98.000000     23.000000      0.570000     2.400000   \n",
       "50%        8.400000    186.000000     26.500000      0.910000     2.700000   \n",
       "75%        9.600000    286.000000     31.000000      1.650000     3.100000   \n",
       "max       15.000000    799.000000     45.000000      7.970000     6.000000   \n",
       "\n",
       "         Bilirubin          CRP       D_dimer     Ferritin          LDH  \\\n",
       "count  9306.000000  3095.000000   4093.000000  2503.000000  4884.000000   \n",
       "mean      1.352911   155.168533   4359.253013  1223.155733   461.907757   \n",
       "std       1.985188   110.860420   6135.491643  1397.045869   263.234497   \n",
       "min       0.100000     1.000000    150.000000    14.400000    85.000000   \n",
       "25%       0.400000    62.000000    848.000000   438.400000   297.000000   \n",
       "50%       0.700000   139.600000   2245.000000   824.500000   397.000000   \n",
       "75%       1.200000   228.375000   5126.000000  1387.100000   542.250000   \n",
       "max      15.000000   498.000000  39813.000000  9951.100000  1966.000000   \n",
       "\n",
       "       Lactic_acid  Procalcitonin  Episode_duration  \n",
       "count  5236.000000    3836.000000        520.000000  \n",
       "mean      1.706331       2.770665          8.144231  \n",
       "std       1.044975       6.025249          6.631824  \n",
       "min       0.300000       0.050000          1.000000  \n",
       "25%       1.033333       0.234750          5.000000  \n",
       "50%       1.400000       0.712500          7.000000  \n",
       "75%       2.000000       2.278500         10.000000  \n",
       "max       7.000000      49.997000         63.000000  "
      ]
     },
     "execution_count": 4,
     "metadata": {},
     "output_type": "execute_result"
    }
   ],
   "source": [
    "dataset_original.describe()"
   ]
  },
  {
   "cell_type": "code",
   "execution_count": 6,
   "id": "07f3a9a5-cafc-43e5-a099-673c3d63274c",
   "metadata": {},
   "outputs": [],
   "source": [
    "# Create the new dataframe\n",
    "dataset_df = pd.read_csv('CarpeDiem_dataset.csv')\n",
    "dataset_df = pd.DataFrame(dataset_df)"
   ]
  },
  {
   "cell_type": "markdown",
   "id": "37c87a2b-2518-4829-9913-2046a63fa966",
   "metadata": {},
   "source": [
    "# 'ICU_stay'\n",
    "To uniform the dataset, we decide to remove the patients who present at least one stay longer than 31 days."
   ]
  },
  {
   "cell_type": "code",
   "execution_count": 7,
   "id": "60efb46b-f2f1-430d-b4d5-46ac9c7b6ab4",
   "metadata": {},
   "outputs": [
    {
     "name": "stdout",
     "output_type": "stream",
     "text": [
      "Index(['Patient_id', 'ICU_stay', 'ICU_day'], dtype='object')\n"
     ]
    }
   ],
   "source": [
    "# Check the presence of patients with a stay longer than 31 days:\n",
    "length_stays = dataset_df.groupby(['Patient_id', 'ICU_stay'])['ICU_day'].max()\n",
    "length_stays = pd.DataFrame(length_stays).reset_index()\n",
    "print(length_stays.columns)"
   ]
  },
  {
   "cell_type": "code",
   "execution_count": 8,
   "id": "03cdfdb8-5b6e-4598-a4af-0e9e26bdeffa",
   "metadata": {},
   "outputs": [
    {
     "data": {
      "text/plain": [
       "<matplotlib.legend.Legend at 0x237c6add9a0>"
      ]
     },
     "execution_count": 8,
     "metadata": {},
     "output_type": "execute_result"
    },
    {
     "data": {
      "image/png": "[encoded data removed]",
      "text/plain": [
       "<Figure size 640x480 with 1 Axes>"
      ]
     },
     "metadata": {},
     "output_type": "display_data"
    }
   ],
   "source": [
    "# Plot the distribution of ICU-stays duration\n",
    "dist_stay = length_stays['ICU_day']\n",
    "plt.hist(dist_stay,bins = 50,  range= (0, 100), histtype='bar')\n",
    "plt.axvline(x=31, color='red', label='Cut-off ICU stay duration')\n",
    "\n",
    "plt.title('Distribution of ICU-stay duration')\n",
    "plt.xlabel('Duration of the stay (in days)')\n",
    "plt.ylabel('Number of stays')\n",
    "plt.legend()"
   ]
  },
  {
   "cell_type": "code",
   "execution_count": 9,
   "id": "58d82454-cee7-4480-aff2-77e51834f664",
   "metadata": {},
   "outputs": [
    {
     "name": "stdout",
     "output_type": "stream",
     "text": [
      "There are 96 patients (out of 585) with a stay longer than 31 days\n",
      "(7089, 73)\n"
     ]
    }
   ],
   "source": [
    "# Find IDs of patients with at least a stay longer than 31 days\n",
    "patients_too_long = length_stays.loc[(length_stays['ICU_day'])>31, 'Patient_id'].unique()\n",
    "print(f\"There are {len(patients_too_long)} patients (out of 585) with a stay longer than 31 days\")\n",
    "\n",
    "# Remove from the original dataset the patients with at least a stay longer than 31 days\n",
    "dataset_df = dataset_df[~ dataset_df['Patient_id'].isin(patients_too_long)]\n",
    "dataset_df = dataset_df.reset_index(drop=True)\n",
    "print(dataset_df.shape)"
   ]
  },
  {
   "cell_type": "markdown",
   "id": "6aed72e3-b6aa-49a3-af5b-b41c339569be",
   "metadata": {},
   "source": [
    "# 'Age' and 'BMI' distributions\n",
    "We look at distributions of variables 'Age' and 'BMI'; we decide to remove patients who present a too extreme value of these variables, in order to obtain a more uniform dataset, in particular:\n",
    "- as regards variable 'Age' we choose to remove patients who are younger than 30 years old, since they are a minority, and patients who are over 80 years\n",
    "old (who include also all the patients older than 89, labeled as 91), because they are likely to have other pathologies/comorbidities/complications due to age, that are not reported in the dataset.\n",
    "- as regards variable 'BMI' we choose to remove patients with BMI larger than 60, because they represent extreme cases."
   ]
  },
  {
   "cell_type": "code",
   "execution_count": 10,
   "id": "a0467075-059c-4dc5-9337-f0992671b3db",
   "metadata": {},
   "outputs": [
    {
     "data": {
      "image/png": "[encoded data removed]",
      "text/plain": [
       "<Figure size 640x480 with 1 Axes>"
      ]
     },
     "metadata": {},
     "output_type": "display_data"
    },
    {
     "name": "stdout",
     "output_type": "stream",
     "text": [
      "(6262, 73)\n"
     ]
    }
   ],
   "source": [
    "# Age\n",
    "bins_Age = np.arange(0, 101, 10)\n",
    "plt.hist(dataset_df['Age'].groupby(dataset_df['Patient_id'], group_keys= True).first(), bins=bins_Age, histtype='bar')\n",
    "plt.axvline(x=30, color='red', lw=2)\n",
    "plt.axvline(x=80, color='red', lw=2)\n",
    "\n",
    "plt.title(f'Distribution of Age')\n",
    "plt.xlabel('Value')\n",
    "plt.ylabel('Frequency')\n",
    "plt.show()\n",
    "\n",
    "dataset_df = dataset_df[((dataset_df['Age']>=30) & (dataset_df['Age']<=80))]\n",
    "dataset_df = dataset_df.reset_index(drop=True)\n",
    "print(dataset_df.shape)"
   ]
  },
  {
   "cell_type": "code",
   "execution_count": 11,
   "id": "35dfb8a5-232c-418d-92e9-726ea9135b0b",
   "metadata": {},
   "outputs": [
    {
     "data": {
      "image/png": "[encoded data removed]",
      "text/plain": [
       "<Figure size 640x480 with 1 Axes>"
      ]
     },
     "metadata": {},
     "output_type": "display_data"
    },
    {
     "name": "stdout",
     "output_type": "stream",
     "text": [
      "(6209, 73)\n"
     ]
    }
   ],
   "source": [
    "# BMI \n",
    "bins_BMI = np.arange(10, 90, 10)\n",
    "plt.hist(dataset_df['BMI'].groupby(dataset_df['Patient_id'], group_keys= True).first(), bins=bins_BMI, histtype='bar')\n",
    "plt.axvline(x=60, color='red', lw=2)\n",
    "plt.title(f'Distribution of BMI')\n",
    "plt.xlabel('Value')\n",
    "plt.ylabel('Frequency')\n",
    "plt.show()\n",
    "\n",
    "dataset_df = dataset_df[(dataset_df['BMI'] <60)]\n",
    "dataset_df = dataset_df.reset_index(drop=True)\n",
    "print(dataset_df.shape)"
   ]
  },
  {
   "cell_type": "markdown",
   "id": "5fa9655f-a4d3-4b5b-9882-b9b362a865aa",
   "metadata": {},
   "source": [
    "# NaN analysis\n",
    "We consider the null values present in the dataset and we analyse them one variable at a time."
   ]
  },
  {
   "cell_type": "code",
   "execution_count": 12,
   "id": "a306e347-4ffd-4cc4-8eb5-2659b42cb262",
   "metadata": {},
   "outputs": [
    {
     "name": "stdout",
     "output_type": "stream",
     "text": [
      "<class 'pandas.core.frame.DataFrame'>\n",
      "RangeIndex: 6209 entries, 0 to 6208\n",
      "Data columns (total 73 columns):\n",
      " #   Column                       Non-Null Count  Dtype  \n",
      "---  ------                       --------------  -----  \n",
      " 0   Patient_id/ICU_stay/ICU_day  6209 non-null   object \n",
      " 1   Patient_id                   6209 non-null   int64  \n",
      " 2   External_transfer_flag       6209 non-null   int64  \n",
      " 3   Admission_source_name        6209 non-null   object \n",
      " 4   Discharge_disposition        6209 non-null   object \n",
      " 5   Binary_outcome               6209 non-null   int64  \n",
      " 6   Global_cause_failure         2671 non-null   object \n",
      " 7   Patient_category             6209 non-null   object \n",
      " 8   COVID_status                 6209 non-null   bool   \n",
      " 9   Age                          6209 non-null   int64  \n",
      " 10  Ethnicity                    6209 non-null   object \n",
      " 11  Gender                       6209 non-null   object \n",
      " 12  Race                         6209 non-null   object \n",
      " 13  Smoking_status               6209 non-null   object \n",
      " 14  BMI                          6209 non-null   float64\n",
      " 15  Admit_APS_score              6209 non-null   float64\n",
      " 16  Admit_SOFA_score             6209 non-null   float64\n",
      " 17  Cumulative_ICU_days          6209 non-null   int64  \n",
      " 18  Number_of_ICU_stays          6209 non-null   int64  \n",
      " 19  Tracheostomy_flag            6209 non-null   int64  \n",
      " 20  Cumulative_intubation_days   6209 non-null   int64  \n",
      " 21  ICU_stay                     6209 non-null   int64  \n",
      " 22  ICU_day                      6209 non-null   int64  \n",
      " 23  SOFA_score                   6209 non-null   int64  \n",
      " 24  ECMO_flag                    6209 non-null   int64  \n",
      " 25  Intubation_flag              6209 non-null   int64  \n",
      " 26  Hemodialysis_flag            6209 non-null   int64  \n",
      " 27  CRRT_flag                    6209 non-null   int64  \n",
      " 28  Temperature                  6201 non-null   float64\n",
      " 29  Heart_rate                   6207 non-null   float64\n",
      " 30  Systolic_blood_pressure      6205 non-null   float64\n",
      " 31  Diastolic_blood_pressure     6203 non-null   float64\n",
      " 32  Mean_arterial_pressure       6154 non-null   float64\n",
      " 33  Norepinephrine_rate          2361 non-null   float64\n",
      " 34  Norepinephrine_flag          6209 non-null   int64  \n",
      " 35  Respiratory_rate             6170 non-null   float64\n",
      " 36  Oxygen_saturation            6200 non-null   float64\n",
      " 37  Urine_output                 5264 non-null   float64\n",
      " 38  GCS_eye_opening              6125 non-null   float64\n",
      " 39  GCS_motor_response           6125 non-null   float64\n",
      " 40  GCS_verbal_response          6125 non-null   float64\n",
      " 41  RASS_score                   5944 non-null   float64\n",
      " 42  PEEP                         4714 non-null   float64\n",
      " 43  FiO2                         4728 non-null   float64\n",
      " 44  Plateau_Pressure             4388 non-null   float64\n",
      " 45  Lung_Compliance              4313 non-null   float64\n",
      " 46  PEEP_changes                 4735 non-null   float64\n",
      " 47  Respiratory_rate_changes     4735 non-null   float64\n",
      " 48  FiO2_changes                 4735 non-null   float64\n",
      " 49  ABG_pH                       3512 non-null   float64\n",
      " 50  ABG_PaCO2                    3510 non-null   float64\n",
      " 51  ABG_PaO2                     3511 non-null   float64\n",
      " 52  PaO2FIO2_ratio               4073 non-null   float64\n",
      " 53  WBC_count                    6073 non-null   float64\n",
      " 54  Lymphocytes                  3970 non-null   float64\n",
      " 55  Neutrophils                  4012 non-null   float64\n",
      " 56  Hemoglobin                   6018 non-null   float64\n",
      " 57  Platelets                    6117 non-null   float64\n",
      " 58  Bicarbonate                  6071 non-null   float64\n",
      " 59  Creatinine                   6064 non-null   float64\n",
      " 60  Albumin                      4829 non-null   float64\n",
      " 61  Bilirubin                    4701 non-null   float64\n",
      " 62  CRP                          1394 non-null   float64\n",
      " 63  D_dimer                      1920 non-null   float64\n",
      " 64  Ferritin                     1099 non-null   float64\n",
      " 65  LDH                          1953 non-null   float64\n",
      " 66  Lactic_acid                  2705 non-null   float64\n",
      " 67  Procalcitonin                1803 non-null   float64\n",
      " 68  has_bal                      6209 non-null   bool   \n",
      " 69  Episode_category             494 non-null    object \n",
      " 70  Episode_etiology             422 non-null    object \n",
      " 71  Episode_is_cured             422 non-null    object \n",
      " 72  Episode_duration             318 non-null    float64\n",
      "dtypes: bool(2), float64(43), int64(16), object(12)\n",
      "memory usage: 3.4+ MB\n"
     ]
    }
   ],
   "source": [
    "dataset_df.info()"
   ]
  },
  {
   "cell_type": "code",
   "execution_count": 13,
   "id": "a50cc96d-cfc9-4538-bbcb-179a000a1dad",
   "metadata": {},
   "outputs": [
    {
     "data": {
      "text/plain": [
       "Patient_id/ICU_stay/ICU_day     0.000000\n",
       "Patient_id                      0.000000\n",
       "External_transfer_flag          0.000000\n",
       "Admission_source_name           0.000000\n",
       "Discharge_disposition           0.000000\n",
       "Binary_outcome                  0.000000\n",
       "Global_cause_failure           56.981801\n",
       "Patient_category                0.000000\n",
       "COVID_status                    0.000000\n",
       "Age                             0.000000\n",
       "Ethnicity                       0.000000\n",
       "Gender                          0.000000\n",
       "Race                            0.000000\n",
       "Smoking_status                  0.000000\n",
       "BMI                             0.000000\n",
       "Admit_APS_score                 0.000000\n",
       "Admit_SOFA_score                0.000000\n",
       "Cumulative_ICU_days             0.000000\n",
       "Number_of_ICU_stays             0.000000\n",
       "Tracheostomy_flag               0.000000\n",
       "Cumulative_intubation_days      0.000000\n",
       "ICU_stay                        0.000000\n",
       "ICU_day                         0.000000\n",
       "SOFA_score                      0.000000\n",
       "ECMO_flag                       0.000000\n",
       "Intubation_flag                 0.000000\n",
       "Hemodialysis_flag               0.000000\n",
       "CRRT_flag                       0.000000\n",
       "Temperature                     0.128845\n",
       "Heart_rate                      0.032211\n",
       "Systolic_blood_pressure         0.064423\n",
       "Diastolic_blood_pressure        0.096634\n",
       "Mean_arterial_pressure          0.885811\n",
       "Norepinephrine_rate            61.974553\n",
       "Norepinephrine_flag             0.000000\n",
       "Respiratory_rate                0.628120\n",
       "Oxygen_saturation               0.144951\n",
       "Urine_output                   15.219842\n",
       "GCS_eye_opening                 1.352875\n",
       "GCS_motor_response              1.352875\n",
       "GCS_verbal_response             1.352875\n",
       "RASS_score                      4.267998\n",
       "PEEP                           24.077951\n",
       "FiO2                           23.852472\n",
       "Plateau_Pressure               29.328394\n",
       "Lung_Compliance                30.536318\n",
       "PEEP_changes                   23.739733\n",
       "Respiratory_rate_changes       23.739733\n",
       "FiO2_changes                   23.739733\n",
       "ABG_pH                         43.436946\n",
       "ABG_PaCO2                      43.469158\n",
       "ABG_PaO2                       43.453052\n",
       "PaO2FIO2_ratio                 34.401675\n",
       "WBC_count                       2.190369\n",
       "Lymphocytes                    36.060557\n",
       "Neutrophils                    35.384120\n",
       "Hemoglobin                      3.076180\n",
       "Platelets                       1.481720\n",
       "Bicarbonate                     2.222580\n",
       "Creatinine                      2.335320\n",
       "Albumin                        22.225801\n",
       "Bilirubin                      24.287325\n",
       "CRP                            77.548720\n",
       "D_dimer                        69.077146\n",
       "Ferritin                       82.299887\n",
       "LDH                            68.545660\n",
       "Lactic_acid                    56.434208\n",
       "Procalcitonin                  70.961507\n",
       "has_bal                         0.000000\n",
       "Episode_category               92.043807\n",
       "Episode_etiology               93.203414\n",
       "Episode_is_cured               93.203414\n",
       "Episode_duration               94.878402\n",
       "dtype: float64"
      ]
     },
     "execution_count": 13,
     "metadata": {},
     "output_type": "execute_result"
    }
   ],
   "source": [
    "# Percentage of null values in each column\n",
    "percentage_null_columns = dataset_df.isnull().mean() * 100\n",
    "percentage_null_columns"
   ]
  },
  {
   "cell_type": "markdown",
   "id": "cdf8a132-1f28-4592-8644-d70de54ac028",
   "metadata": {},
   "source": [
    "## 'Global_cause_failure' \n",
    "\n",
    "We decide to remove this variable since it has 56% of null values and it can't be used as a covariate in our model but only as a possible target."
   ]
  },
  {
   "cell_type": "code",
   "execution_count": 14,
   "id": "996a8771-3afd-48d3-8a5b-e04f3905240d",
   "metadata": {},
   "outputs": [
    {
     "data": {
      "text/plain": [
       "(6209, 72)"
      ]
     },
     "execution_count": 14,
     "metadata": {},
     "output_type": "execute_result"
    }
   ],
   "source": [
    "dataset_df.drop(['Global_cause_failure'], axis=1, inplace=True)\n",
    "dataset_df.shape"
   ]
  },
  {
   "cell_type": "markdown",
   "id": "81278d94-950a-4b9e-bb90-c33818996cdb",
   "metadata": {},
   "source": [
    "## 'Norepinephrine_rate'\n",
    "This feature's null values are missing not at random, in fact we notice that when 'Norepinephrine_flag' is 0, 'Norepinephrine_rate' is null; so by looking at 'Norepinephrine_flag', we decide to substitute the null values with 0 if 'Norepinephrine_flag' is 0, since the patient has not received the drug."
   ]
  },
  {
   "cell_type": "code",
   "execution_count": 15,
   "id": "fa8e0834-9b84-405e-bf2f-3f05d84d7e25",
   "metadata": {},
   "outputs": [],
   "source": [
    "for i in range(len(dataset_df)):\n",
    "    if (dataset_df.loc[i, 'Norepinephrine_flag'] == 0) & (np.isnan(dataset_df.loc[i, 'Norepinephrine_rate'])):\n",
    "        dataset_df.loc[i, 'Norepinephrine_rate'] = 0\n",
    "    elif (dataset_df.loc[i, 'Norepinephrine_flag'] == 0) & (~np.isnan(dataset_df.loc[i, 'Norepinephrine_rate'])):\n",
    "        print(dataset_df.loc[i, 'Norepinephrine_rate'])"
   ]
  },
  {
   "cell_type": "markdown",
   "id": "f6a3d8f7-3d04-4bd0-8429-366de44bb2b6",
   "metadata": {},
   "source": [
    "## 'PEEP'\n",
    "This feature's null values are missing not at random, in fact we notice that when 'Intubation_flag' is 0, 'PEEP' is null; so by looking at 'Intubation_flag', we decide to substitute the null values with 0 if 'Intubation_flag' is 0, since the patient is not intubated. \\\n",
    "If 'Intubation_flag' is 1 and 'PEEP_changes' != 0, we consider 'PEEP' != 0, so we transform it into a null value in order to impute it later."
   ]
  },
  {
   "cell_type": "code",
   "execution_count": 16,
   "id": "09a19f26-679f-4191-8f6c-77ccd3aeecfe",
   "metadata": {},
   "outputs": [
    {
     "name": "stdout",
     "output_type": "stream",
     "text": [
      "Patient_id         1705\n",
      "Intubation_flag       0\n",
      "PEEP                5.0\n",
      "Name: 1276, dtype: object\n",
      "Patient_id         1705\n",
      "Intubation_flag       0\n",
      "PEEP                5.0\n",
      "Name: 1277, dtype: object\n",
      "Patient_id         1705\n",
      "Intubation_flag       0\n",
      "PEEP                5.0\n",
      "Name: 1278, dtype: object\n",
      "Patient_id         1705\n",
      "Intubation_flag       0\n",
      "PEEP                5.0\n",
      "Name: 1279, dtype: object\n",
      "Patient_id         1705\n",
      "Intubation_flag       0\n",
      "PEEP                5.0\n",
      "Name: 1280, dtype: object\n"
     ]
    }
   ],
   "source": [
    "for i in range(len(dataset_df)):\n",
    "    if (dataset_df.loc[i, 'Intubation_flag'] == 0) & (np.isnan(dataset_df.loc[i,'PEEP'])):\n",
    "        dataset_df.loc[i, 'PEEP'] = 0.0\n",
    "    elif (dataset_df.loc[i, 'Intubation_flag'] == 0) & (~np.isnan(dataset_df.loc[i, 'PEEP'])):\n",
    "        print(dataset_df.loc[i, ['Patient_id','Intubation_flag','PEEP']])\n",
    "    elif (dataset_df.loc[i, 'Intubation_flag'] == 1) & (dataset_df.loc[i, 'PEEP_changes']>1e-1) & (dataset_df.loc[i, 'PEEP']<1e-1):\n",
    "        dataset_df.loc[i, 'PEEP'] = np.nan"
   ]
  },
  {
   "cell_type": "code",
   "execution_count": 17,
   "id": "c7d640b0-5033-4204-9f5e-4b4138e55d6c",
   "metadata": {},
   "outputs": [
    {
     "data": {
      "text/html": [
       "<div>\n",
       "<style scoped>\n",
       "    .dataframe tbody tr th:only-of-type {\n",
       "        vertical-align: middle;\n",
       "    }\n",
       "\n",
       "    .dataframe tbody tr th {\n",
       "        vertical-align: top;\n",
       "    }\n",
       "\n",
       "    .dataframe thead th {\n",
       "        text-align: right;\n",
       "    }\n",
       "</style>\n",
       "<table border=\"1\" class=\"dataframe\">\n",
       "  <thead>\n",
       "    <tr style=\"text-align: right;\">\n",
       "      <th></th>\n",
       "      <th>Intubation_flag</th>\n",
       "      <th>PEEP</th>\n",
       "    </tr>\n",
       "  </thead>\n",
       "  <tbody>\n",
       "    <tr>\n",
       "      <th>1276</th>\n",
       "      <td>0</td>\n",
       "      <td>5.0</td>\n",
       "    </tr>\n",
       "    <tr>\n",
       "      <th>1277</th>\n",
       "      <td>0</td>\n",
       "      <td>5.0</td>\n",
       "    </tr>\n",
       "    <tr>\n",
       "      <th>1278</th>\n",
       "      <td>0</td>\n",
       "      <td>5.0</td>\n",
       "    </tr>\n",
       "    <tr>\n",
       "      <th>1279</th>\n",
       "      <td>0</td>\n",
       "      <td>5.0</td>\n",
       "    </tr>\n",
       "    <tr>\n",
       "      <th>1280</th>\n",
       "      <td>0</td>\n",
       "      <td>5.0</td>\n",
       "    </tr>\n",
       "    <tr>\n",
       "      <th>1281</th>\n",
       "      <td>0</td>\n",
       "      <td>0.0</td>\n",
       "    </tr>\n",
       "    <tr>\n",
       "      <th>1282</th>\n",
       "      <td>0</td>\n",
       "      <td>0.0</td>\n",
       "    </tr>\n",
       "    <tr>\n",
       "      <th>1283</th>\n",
       "      <td>0</td>\n",
       "      <td>0.0</td>\n",
       "    </tr>\n",
       "    <tr>\n",
       "      <th>1284</th>\n",
       "      <td>0</td>\n",
       "      <td>0.0</td>\n",
       "    </tr>\n",
       "    <tr>\n",
       "      <th>1285</th>\n",
       "      <td>0</td>\n",
       "      <td>0.0</td>\n",
       "    </tr>\n",
       "    <tr>\n",
       "      <th>1286</th>\n",
       "      <td>0</td>\n",
       "      <td>0.0</td>\n",
       "    </tr>\n",
       "    <tr>\n",
       "      <th>1287</th>\n",
       "      <td>1</td>\n",
       "      <td>5.0</td>\n",
       "    </tr>\n",
       "    <tr>\n",
       "      <th>1288</th>\n",
       "      <td>1</td>\n",
       "      <td>5.0</td>\n",
       "    </tr>\n",
       "    <tr>\n",
       "      <th>1289</th>\n",
       "      <td>1</td>\n",
       "      <td>5.0</td>\n",
       "    </tr>\n",
       "    <tr>\n",
       "      <th>1290</th>\n",
       "      <td>1</td>\n",
       "      <td>NaN</td>\n",
       "    </tr>\n",
       "    <tr>\n",
       "      <th>1291</th>\n",
       "      <td>1</td>\n",
       "      <td>NaN</td>\n",
       "    </tr>\n",
       "    <tr>\n",
       "      <th>1292</th>\n",
       "      <td>1</td>\n",
       "      <td>5.0</td>\n",
       "    </tr>\n",
       "    <tr>\n",
       "      <th>1293</th>\n",
       "      <td>1</td>\n",
       "      <td>5.0</td>\n",
       "    </tr>\n",
       "    <tr>\n",
       "      <th>1294</th>\n",
       "      <td>1</td>\n",
       "      <td>5.0</td>\n",
       "    </tr>\n",
       "    <tr>\n",
       "      <th>1295</th>\n",
       "      <td>1</td>\n",
       "      <td>5.0</td>\n",
       "    </tr>\n",
       "    <tr>\n",
       "      <th>1296</th>\n",
       "      <td>1</td>\n",
       "      <td>5.0</td>\n",
       "    </tr>\n",
       "    <tr>\n",
       "      <th>1297</th>\n",
       "      <td>1</td>\n",
       "      <td>5.0</td>\n",
       "    </tr>\n",
       "    <tr>\n",
       "      <th>1298</th>\n",
       "      <td>0</td>\n",
       "      <td>0.0</td>\n",
       "    </tr>\n",
       "    <tr>\n",
       "      <th>1299</th>\n",
       "      <td>0</td>\n",
       "      <td>0.0</td>\n",
       "    </tr>\n",
       "    <tr>\n",
       "      <th>1300</th>\n",
       "      <td>0</td>\n",
       "      <td>0.0</td>\n",
       "    </tr>\n",
       "    <tr>\n",
       "      <th>1301</th>\n",
       "      <td>0</td>\n",
       "      <td>0.0</td>\n",
       "    </tr>\n",
       "  </tbody>\n",
       "</table>\n",
       "</div>"
      ],
      "text/plain": [
       "      Intubation_flag  PEEP\n",
       "1276                0   5.0\n",
       "1277                0   5.0\n",
       "1278                0   5.0\n",
       "1279                0   5.0\n",
       "1280                0   5.0\n",
       "1281                0   0.0\n",
       "1282                0   0.0\n",
       "1283                0   0.0\n",
       "1284                0   0.0\n",
       "1285                0   0.0\n",
       "1286                0   0.0\n",
       "1287                1   5.0\n",
       "1288                1   5.0\n",
       "1289                1   5.0\n",
       "1290                1   NaN\n",
       "1291                1   NaN\n",
       "1292                1   5.0\n",
       "1293                1   5.0\n",
       "1294                1   5.0\n",
       "1295                1   5.0\n",
       "1296                1   5.0\n",
       "1297                1   5.0\n",
       "1298                0   0.0\n",
       "1299                0   0.0\n",
       "1300                0   0.0\n",
       "1301                0   0.0"
      ]
     },
     "execution_count": 17,
     "metadata": {},
     "output_type": "execute_result"
    }
   ],
   "source": [
    "# we look at patient 1705 who presents an anomaly\n",
    "dataset_df.loc[dataset_df['Patient_id']==1705,['Intubation_flag','PEEP']]"
   ]
  },
  {
   "cell_type": "code",
   "execution_count": 18,
   "id": "fb95538f-9bb3-4dae-8a12-f7e311641ce6",
   "metadata": {},
   "outputs": [],
   "source": [
    "# since for the first 5 days the value of PEEP is recorded, even if Intubation_flag is 0 we decide to put Intubation_flag to 1\n",
    "dataset_df.loc[ ((dataset_df['Patient_id'] == 1705) & (dataset_df['Intubation_flag']==0) & (dataset_df['PEEP'] != 0)), 'Intubation_flag'] = 1"
   ]
  },
  {
   "cell_type": "markdown",
   "id": "ee61b1c1",
   "metadata": {},
   "source": [
    "## 'FiO2'\n",
    "We notice that if the patient is not intubated, i.e. if 'Intubation_flag' is 0, the measurements of 'FiO2' are never reported. So we decide to substitute these missing values with 0 when 'Intubation_flag' is 0."
   ]
  },
  {
   "cell_type": "code",
   "execution_count": 19,
   "id": "41f6a56d",
   "metadata": {},
   "outputs": [
    {
     "name": "stdout",
     "output_type": "stream",
     "text": [
      "Patient_id    2016\n",
      "FiO2          30.0\n",
      "Name: 1556, dtype: object\n"
     ]
    }
   ],
   "source": [
    "for i in range(len(dataset_df)):\n",
    "    if (dataset_df.loc[i, 'Intubation_flag'] == 0) & (np.isnan(dataset_df.loc[i,'FiO2'])):\n",
    "        dataset_df.loc[i, 'FiO2'] = 0.0\n",
    "    elif (dataset_df.loc[i, 'Intubation_flag'] == 0) & (~np.isnan(dataset_df.loc[i, 'FiO2'])):\n",
    "        print(dataset_df.loc[i, ['Patient_id','FiO2']])"
   ]
  },
  {
   "cell_type": "markdown",
   "id": "b9b47057",
   "metadata": {},
   "source": [
    "## 'Plateau_Pressure'\n",
    "We notice that if the patient is not intubated, i.e. if 'Intubation_flag' is 0, the measurements of 'Plateau_Pressure' are never reported. So we decide to substitute these missing values with 0 when 'Intubation_flag' is 0."
   ]
  },
  {
   "cell_type": "code",
   "execution_count": 20,
   "id": "9f4eb598",
   "metadata": {},
   "outputs": [],
   "source": [
    "for i in range(len(dataset_df)):\n",
    "    if (dataset_df.loc[i, 'Intubation_flag'] == 0) & (np.isnan(dataset_df.loc[i,'Plateau_Pressure'])):\n",
    "        dataset_df.loc[i, 'Plateau_Pressure'] = 0.0\n",
    "    elif (dataset_df.loc[i, 'Intubation_flag'] == 0) & (~np.isnan(dataset_df.loc[i, 'Plateau_Pressure'])):\n",
    "        print(dataset_df.loc[i, ['Patient_id','Plateau_Pressure']])"
   ]
  },
  {
   "cell_type": "markdown",
   "id": "218ce65d",
   "metadata": {},
   "source": [
    "## 'Lung_Compliance'\n",
    "We notice that if the patient is not intubated, i.e. if 'Intubation_flag' is 0, the measurements of 'Lung_Compliance' are never reported. So we decide to substitute these missing values with 0 when 'Intubation_flag' is 0. \\\n",
    "Moreover, there are some patients who are intubated but have a value of 'Lung_Compliance' equal to 0. We suppose that these values of 'Lung_Compliance' are wrongly reported measurements, so we decide to transform them into null values in order to impute them later. "
   ]
  },
  {
   "cell_type": "code",
   "execution_count": 21,
   "id": "52803f11",
   "metadata": {},
   "outputs": [],
   "source": [
    "for i in range(len(dataset_df)):\n",
    "    if (dataset_df.loc[i, 'Intubation_flag'] == 0) & (np.isnan(dataset_df.loc[i,'Lung_Compliance'])):\n",
    "        dataset_df.loc[i, 'Lung_Compliance'] = 0.0\n",
    "    elif (dataset_df.loc[i, 'Intubation_flag'] == 0) & (~np.isnan(dataset_df.loc[i, 'Lung_Compliance'])):\n",
    "        print(dataset_df.loc[i, ['Patient_id','Lung_Compliance']])\n",
    "    elif (dataset_df.loc[i, 'Intubation_flag'] == 1) & (dataset_df.loc[i, 'Lung_Compliance']<1e-1):\n",
    "        dataset_df.loc[i, ['Lung_Compliance']] = np.nan"
   ]
  },
  {
   "cell_type": "markdown",
   "id": "a282b140-d7d7-4cb0-9134-defa5f9a3d30",
   "metadata": {},
   "source": [
    "## 'PEEP_changes'\n",
    "We notice that if the patient is not intubated, i.e. if 'Intubation_flag' is 0, the measurements of 'PEEP_changes' are never reported. So we decide to substitute these missing values with 0 when 'Intubation_flag' is 0."
   ]
  },
  {
   "cell_type": "code",
   "execution_count": 22,
   "id": "b9ad3586-18e0-48d5-b3cf-7713af2c3f7c",
   "metadata": {},
   "outputs": [
    {
     "name": "stdout",
     "output_type": "stream",
     "text": [
      "Patient_id      2016\n",
      "PEEP_changes     1.0\n",
      "Name: 1556, dtype: object\n"
     ]
    }
   ],
   "source": [
    "for i in range(len(dataset_df)):\n",
    "    if (dataset_df.loc[i, 'Intubation_flag'] == 0) & (np.isnan(dataset_df.loc[i,'PEEP_changes'])):\n",
    "        dataset_df.loc[i, 'PEEP_changes'] = 0.0\n",
    "    elif (dataset_df.loc[i, 'Intubation_flag'] == 0) & (~np.isnan(dataset_df.loc[i, 'PEEP_changes'])):\n",
    "        print(dataset_df.loc[i, ['Patient_id','PEEP_changes']])"
   ]
  },
  {
   "cell_type": "markdown",
   "id": "0ee0e587-ec01-45f0-8c47-6e0bdfa65c6c",
   "metadata": {},
   "source": [
    "## 'Respiratory_rate_changes'\n",
    "We notice that if the patient is not intubated, i.e. if 'Intubation_flag' is 0, the measurements of 'Respiratory_rate_changes' are never reported. So we decide to substitute these missing values with 0 when 'Intubation_flag' is 0."
   ]
  },
  {
   "cell_type": "code",
   "execution_count": 23,
   "id": "2df74217-3ebb-47fe-92d1-45da99f0c460",
   "metadata": {},
   "outputs": [
    {
     "name": "stdout",
     "output_type": "stream",
     "text": [
      "Patient_id                  2016\n",
      "Respiratory_rate_changes     1.0\n",
      "Name: 1556, dtype: object\n"
     ]
    }
   ],
   "source": [
    "for i in range(len(dataset_df)):\n",
    "    if (dataset_df.loc[i, 'Intubation_flag'] == 0) & (np.isnan(dataset_df.loc[i,'Respiratory_rate_changes'])):\n",
    "        dataset_df.loc[i, 'Respiratory_rate_changes'] = 0.0\n",
    "    elif (dataset_df.loc[i, 'Intubation_flag'] == 0) & (~np.isnan(dataset_df.loc[i, 'Respiratory_rate_changes'])):\n",
    "        print(dataset_df.loc[i, ['Patient_id','Respiratory_rate_changes']])"
   ]
  },
  {
   "cell_type": "markdown",
   "id": "e7f56d9e-a023-4f22-ad19-5c1dc0f7e9c5",
   "metadata": {},
   "source": [
    "## 'FiO2_changes'\n",
    "We notice that if the patient is not intubated, i.e. if 'Intubation_flag' is 0, the measurements of 'FiO2_changes' are never reported. So we decide to substitute these missing values with 0 when 'Intubation_flag' is 0."
   ]
  },
  {
   "cell_type": "code",
   "execution_count": 24,
   "id": "e782818c-76cb-4261-b5c1-58fa445498d9",
   "metadata": {},
   "outputs": [
    {
     "name": "stdout",
     "output_type": "stream",
     "text": [
      "Patient_id      2016\n",
      "FiO2_changes     1.0\n",
      "Name: 1556, dtype: object\n"
     ]
    }
   ],
   "source": [
    "for i in range(len(dataset_df)):\n",
    "    if (dataset_df.loc[i, 'Intubation_flag'] == 0) & (np.isnan(dataset_df.loc[i,'FiO2_changes'])):\n",
    "        dataset_df.loc[i, 'FiO2_changes'] = 0.0\n",
    "    elif (dataset_df.loc[i, 'Intubation_flag'] == 0) & (~np.isnan(dataset_df.loc[i, 'FiO2_changes'])):\n",
    "        print(dataset_df.loc[i, ['Patient_id','FiO2_changes']])"
   ]
  },
  {
   "cell_type": "markdown",
   "id": "ba3d516b",
   "metadata": {},
   "source": [
    "#### Patient with id 2016:\n",
    "There is just one day in which we have measurements of 'FiO2', 'PEEP_changes', 'Respiratory_rate_changes' and 'FiO2_changes', but 'Intubation_flag' is 0, so we decide to trust the fact that he has not been intubated. Hence we substitute those values with 0."
   ]
  },
  {
   "cell_type": "code",
   "execution_count": 25,
   "id": "5c493ae2",
   "metadata": {},
   "outputs": [
    {
     "name": "stdout",
     "output_type": "stream",
     "text": [
      "      Intubation_flag  FiO2  PEEP_changes  Respiratory_rate_changes  \\\n",
      "1554                0   0.0           0.0                       0.0   \n",
      "1555                0   0.0           0.0                       0.0   \n",
      "1556                0  30.0           1.0                       1.0   \n",
      "1557                0   0.0           0.0                       0.0   \n",
      "1558                0   0.0           0.0                       0.0   \n",
      "\n",
      "      FiO2_changes  \n",
      "1554           0.0  \n",
      "1555           0.0  \n",
      "1556           1.0  \n",
      "1557           0.0  \n",
      "1558           0.0  \n"
     ]
    }
   ],
   "source": [
    "print(dataset_df.loc[1554:1558,['Intubation_flag','FiO2','PEEP_changes','Respiratory_rate_changes','FiO2_changes']])\n",
    "\n",
    "dataset_df.loc[1556, ['FiO2','PEEP_changes','Respiratory_rate_changes','FiO2_changes']] = 0.0"
   ]
  },
  {
   "cell_type": "markdown",
   "id": "a5e7b4ec-c38a-4c78-9b6f-d99da2c9c387",
   "metadata": {},
   "source": [
    "## 'CRP', 'D_dimer', 'Ferritin', 'LDH', 'Lactic_acid', 'Procalcitonin'\n",
    "These features present a percentage of null values higher than 50%, so we decide to drop them."
   ]
  },
  {
   "cell_type": "code",
   "execution_count": 26,
   "id": "f6cced06-9a86-4bd7-a6eb-537ef09fa72c",
   "metadata": {},
   "outputs": [
    {
     "data": {
      "text/plain": [
       "(6209, 66)"
      ]
     },
     "execution_count": 26,
     "metadata": {},
     "output_type": "execute_result"
    }
   ],
   "source": [
    "dataset_df.drop(['CRP', 'D_dimer', 'Ferritin', 'LDH', 'Lactic_acid','Procalcitonin'], axis=1, inplace=True)\n",
    "dataset_df.shape"
   ]
  },
  {
   "cell_type": "markdown",
   "id": "0ebb37fb-9084-41c5-b424-464dba26eeeb",
   "metadata": {},
   "source": [
    "## BAL EXAM features\n",
    "We decide to keep the features 'has_bal', 'Episode_category', 'Episode_etiology' and 'Episode_duration' and remove feature 'Episode_is_cured'. Moreover, we keep track of previous BAL exams by repeating these information until the new exam is performed."
   ]
  },
  {
   "cell_type": "code",
   "execution_count": 27,
   "id": "31d2b9b5",
   "metadata": {},
   "outputs": [
    {
     "data": {
      "text/plain": [
       "(6209, 65)"
      ]
     },
     "execution_count": 27,
     "metadata": {},
     "output_type": "execute_result"
    }
   ],
   "source": [
    "# Drop the variable 'Episode_is_cured'\n",
    "dataset_df.drop(['Episode_is_cured'], axis=1, inplace=True)\n",
    "dataset_df.shape"
   ]
  },
  {
   "cell_type": "code",
   "execution_count": 28,
   "id": "080139c1-2d6e-4bd1-8695-453f84bfa0b1",
   "metadata": {},
   "outputs": [],
   "source": [
    "# If variable 'has_bal' is True but 'Episode_category' is null, we don't have any info about that bal exam, \n",
    "# so we don't consider it. If instead 'Episode_category' is not null but 'has_bal' is False, we suppose that \n",
    "# the patient acutally had a bal exam\n",
    "\n",
    "for i in range(len(dataset_df)):\n",
    "    if (dataset_df.loc[i, 'has_bal'] == True) & (pd.isna(dataset_df.loc[i, 'Episode_category'])):\n",
    "        dataset_df.loc[i, 'has_bal'] = False\n",
    "        \n",
    "    elif (dataset_df.loc[i, 'has_bal'] == False) & (~pd.isna(dataset_df.loc[i, 'Episode_category'])):\n",
    "        dataset_df.loc[i, 'has_bal'] = True"
   ]
  },
  {
   "cell_type": "code",
   "execution_count": 29,
   "id": "099bf95e-d0c5-459a-9cf7-ea3ad8705b8d",
   "metadata": {},
   "outputs": [],
   "source": [
    "# For each day, if the patient has not a bal exam that day, we copy the information about the most recent bal exam made\n",
    "ids = np.unique(dataset_df['Patient_id'])\n",
    "for i in ids:\n",
    "    personal_col = dataset_df.loc[dataset_df['Patient_id']==i, ['has_bal','Episode_category','Episode_etiology']] \n",
    "    \n",
    "    for j in np.arange(personal_col.index[0]+1, personal_col.index[0]+len(personal_col)):\n",
    "        if personal_col.loc[j, 'has_bal']==False:\n",
    "            personal_col.loc[j,['Episode_category','Episode_etiology']]= personal_col.loc[j-1,['Episode_category','Episode_etiology']]\n",
    "\n",
    "    dataset_df.loc[dataset_df['Patient_id']==i, ['has_bal','Episode_category','Episode_etiology']] = personal_col"
   ]
  },
  {
   "cell_type": "markdown",
   "id": "b5f22259-bbca-4f87-ace0-04cd144f3d3f",
   "metadata": {},
   "source": [
    "# Nan values for each patient and each ICU stay\n",
    "\n",
    "We check the percentage of null values for each patient and each ICU stay."
   ]
  },
  {
   "cell_type": "code",
   "execution_count": 30,
   "id": "b641b420-50cd-473b-81dd-000911f0a1c9",
   "metadata": {},
   "outputs": [
    {
     "data": {
      "text/plain": [
       "(array([], dtype=int64),)"
      ]
     },
     "execution_count": 30,
     "metadata": {},
     "output_type": "execute_result"
    }
   ],
   "source": [
    "null_values = dataset_df.groupby(['Patient_id','ICU_stay'], group_keys=True).apply(lambda x: pd.isnull(x).sum()).sum(axis=1)\n",
    "num_days = dataset_df.groupby(['Patient_id','ICU_stay'], group_keys=True)['ICU_day'].count()\n",
    "num_days = num_days*dataset_df.shape[1]\n",
    "\n",
    "perc_null_values = null_values/num_days * 100\n",
    "\n",
    "np.where(perc_null_values > 25)\n",
    "# There are no patient-ICU_stay with a percentage of null values greater than 25%, so we do not remove anything"
   ]
  },
  {
   "cell_type": "markdown",
   "id": "e7c1ddb9-85f2-4823-8aa8-afae6bd3f0d9",
   "metadata": {},
   "source": [
    "# Nan values for the first day of each ICU stay of each patient\n",
    "\n",
    "We check the percentage of null values for the first recorded day of each ICU stay of each patient."
   ]
  },
  {
   "cell_type": "code",
   "execution_count": 31,
   "id": "2656b120-66cc-4650-9d75-5a454ed341cd",
   "metadata": {},
   "outputs": [
    {
     "data": {
      "text/plain": [
       "(array([207, 321, 451], dtype=int64),)"
      ]
     },
     "execution_count": 31,
     "metadata": {},
     "output_type": "execute_result"
    }
   ],
   "source": [
    "fist_day_null_values = pd.DataFrame(dataset_df.groupby([\"Patient_id\",'ICU_stay']).nth(0, dropna=None))\n",
    "perc_first_day = fist_day_null_values.isna().sum(axis=1)/dataset_df.shape[1] *100\n",
    "perc_first_day\n",
    "\n",
    "np.where(perc_first_day > 25)\n",
    "# There are 3 patients with a percentage of null values in the first day of a stay greater than 25%, but we decide to keep all of them"
   ]
  },
  {
   "cell_type": "markdown",
   "id": "8c5df8e9-449d-4b0b-94c5-f18b9d1b58b4",
   "metadata": {},
   "source": [
    "# Check of the last registration for each stay of the patients\n",
    "We remove the row associated to the last day of patients who died, since these values could not be used by the model for the prediction. Moreover, we check the percentage of null values of the last day for each patient and each stay."
   ]
  },
  {
   "cell_type": "code",
   "execution_count": 32,
   "id": "7c0e73ca-10eb-4b2c-8e26-017ca3a91c60",
   "metadata": {},
   "outputs": [],
   "source": [
    "# We remove the last day for each patient that has 'Binary_outcome' equal to 1 (i.e. died or sent to hospice)\n",
    "patient_id = np.unique(dataset_df['Patient_id'])\n",
    "for id in patient_id:\n",
    "    if dataset_df.loc[dataset_df['Patient_id'] == id, 'Binary_outcome'].iloc[0]:\n",
    "        row_index = dataset_df.loc[dataset_df['Patient_id'] == id, 'Binary_outcome'].index[-1]\n",
    "        dataset_df.drop(row_index, inplace=True)\n",
    "        dataset_df = dataset_df.reset_index(drop=True)"
   ]
  },
  {
   "cell_type": "code",
   "execution_count": 33,
   "id": "bbc0dc5b-4709-4d82-ad73-a79dfde4dd8d",
   "metadata": {},
   "outputs": [
    {
     "data": {
      "text/plain": [
       "(array([106], dtype=int64),)"
      ]
     },
     "execution_count": 33,
     "metadata": {},
     "output_type": "execute_result"
    }
   ],
   "source": [
    "# We check the percentage of null values for the last day of each stay of each patient\n",
    "last_day_null_values = pd.DataFrame(dataset_df.groupby(['Patient_id','ICU_stay']).nth(-1, dropna=None))\n",
    "perc_last_day = last_day_null_values.isna().sum(axis=1)/dataset_df.shape[1] *100\n",
    "perc_last_day\n",
    "\n",
    "np.where(perc_last_day > 25)\n",
    "# There is one patient with a percentage of null values in the last day of a stay greater than 25%"
   ]
  },
  {
   "cell_type": "markdown",
   "id": "10c0cea5-81db-4cab-a843-10a5b4b8f503",
   "metadata": {},
   "source": [
    "# Feature Engineering\n",
    "We introduce into the dataset some new significant variables to keep track of the clinical history of patients."
   ]
  },
  {
   "cell_type": "markdown",
   "id": "a2c06984",
   "metadata": {},
   "source": [
    "### 'GCS_total' feature\n",
    "We decide to create the variable 'GCS_total' as the sum of the values of 'GCS_eye_opening', 'GCS_motor_response' and 'GCS_verbal_response'."
   ]
  },
  {
   "cell_type": "code",
   "execution_count": 34,
   "id": "fa7142f2",
   "metadata": {},
   "outputs": [],
   "source": [
    "dataset_df['GCS_total'] = dataset_df[['GCS_eye_opening', 'GCS_motor_response', 'GCS_verbal_response']].sum(axis=1)"
   ]
  },
  {
   "cell_type": "markdown",
   "id": "c8324c00-2646-4ebd-a1d9-1f9615c590c6",
   "metadata": {},
   "source": [
    "### 'Next_day_outcome' feature\n",
    "\n",
    "We introduce the target variable 'Next_day_outcome' as a feature which has 0 if the patient does not die in the next 24 hours, 1 if he/she does.\n"
   ]
  },
  {
   "cell_type": "code",
   "execution_count": 35,
   "id": "4693c134-832a-400b-a626-af31dd8f1651",
   "metadata": {},
   "outputs": [],
   "source": [
    "patient_id = np.unique(dataset_df['Patient_id'])\n",
    "new_col = []\n",
    "\n",
    "for i in patient_id:\n",
    "    outcome = np.zeros(len(dataset_df.loc[dataset_df['Patient_id'] == i]), dtype='int')\n",
    "\n",
    "    if dataset_df.loc[dataset_df['Patient_id'] == i, 'Binary_outcome'].iloc[0] == 1:\n",
    "        outcome[-1] = 1\n",
    "\n",
    "    new_col.extend(outcome)\n",
    "\n",
    "dataset_df['Next_day_outcome'] = new_col"
   ]
  },
  {
   "cell_type": "markdown",
   "id": "3263aed4-c020-4ea0-abc8-6abe806374ec",
   "metadata": {},
   "source": [
    "### 'Cumulative_days' feature\n",
    "\n",
    "We introduce the variable 'Cumulative_days' which is the cumulative number of days that each patient spends in the ICU, considering all the stays, in order to keep track of the length of his/her hospitalization."
   ]
  },
  {
   "cell_type": "code",
   "execution_count": 36,
   "id": "56c04054-dd8d-4c68-a01d-39165bf4a421",
   "metadata": {},
   "outputs": [],
   "source": [
    "patient_id = np.unique(dataset_df['Patient_id'])\n",
    "new_col = []\n",
    "\n",
    "for i in patient_id:\n",
    "    first_day = dataset_df.loc[dataset_df['Patient_id']==i, 'ICU_day'].iloc[0]\n",
    "    total_stay = np.arange(first_day, len(dataset_df.loc[dataset_df['Patient_id']==i])+first_day)\n",
    "    new_col.extend(total_stay)\n",
    "\n",
    "dataset_df['Cumulative_days'] = new_col"
   ]
  },
  {
   "cell_type": "code",
   "execution_count": 37,
   "id": "4a12708b-fc42-4d76-9925-9e7cb6c86eba",
   "metadata": {},
   "outputs": [
    {
     "data": {
      "text/plain": [
       "(6023, 66)"
      ]
     },
     "execution_count": 37,
     "metadata": {},
     "output_type": "execute_result"
    }
   ],
   "source": [
    "# Remove the variables 'Cumulative_ICU_days' and 'Number_of_ICU_stays'\n",
    "dataset_df.drop(['Cumulative_ICU_days','Number_of_ICU_stays'], axis=1, inplace=True)\n",
    "dataset_df.shape"
   ]
  },
  {
   "cell_type": "markdown",
   "id": "88bf5498-0400-499b-932d-64eb324a8486",
   "metadata": {},
   "source": [
    "### 'Cumulative_intub_days' feature\n",
    "\n",
    "We introduce the variable 'Cumulative_intub_days' which is the cumulative number of days in which the patient is intubated."
   ]
  },
  {
   "cell_type": "code",
   "execution_count": 39,
   "id": "b0030b72-8bb0-41a2-80d7-34f8e4a4337f",
   "metadata": {},
   "outputs": [],
   "source": [
    "new_col = []\n",
    "\n",
    "for i in patient_id:\n",
    "    intub_flag = dataset_df.loc[dataset_df['Patient_id']==i, 'Intubation_flag']\n",
    "    count=0\n",
    "\n",
    "    for ind in intub_flag:\n",
    "        if ind==True:\n",
    "            count = count+1\n",
    "        new_col.append(count)\n",
    "        \n",
    "dataset_df['Cumulative_intub_days'] = new_col"
   ]
  },
  {
   "cell_type": "code",
   "execution_count": 40,
   "id": "48883742-65e1-46fc-a392-8d8fd7656e06",
   "metadata": {},
   "outputs": [
    {
     "data": {
      "text/plain": [
       "(6023, 66)"
      ]
     },
     "execution_count": 40,
     "metadata": {},
     "output_type": "execute_result"
    }
   ],
   "source": [
    "# Remove the variable 'Cumulative_intubation_days'\n",
    "dataset_df.drop(['Cumulative_intubation_days'], axis=1, inplace=True)\n",
    "dataset_df.shape"
   ]
  },
  {
   "cell_type": "markdown",
   "id": "31b8a0d4-b261-4d8c-8dae-15b305a1c9ca",
   "metadata": {},
   "source": [
    "### 'Cumulative_bal' feature\n",
    "\n",
    "We introduce the variable 'Cumulative_bal' which represents the number of times that each patient has performed a BAL exam."
   ]
  },
  {
   "cell_type": "code",
   "execution_count": 41,
   "id": "b822f40d-d1b4-4acc-bf7e-a5831dca07d0",
   "metadata": {},
   "outputs": [],
   "source": [
    "new_col = []\n",
    "\n",
    "for i in patient_id:\n",
    "    bal_flag = dataset_df.loc[dataset_df['Patient_id']==i, 'has_bal']\n",
    "    count=0\n",
    "\n",
    "    for ind in bal_flag:\n",
    "        if ind==True:\n",
    "            count = count+1\n",
    "        new_col.append(count)\n",
    "        \n",
    "dataset_df['Cumulative_bal'] = new_col"
   ]
  },
  {
   "cell_type": "markdown",
   "id": "0a0bd750-5e6b-4781-bd9a-915096bf580b",
   "metadata": {},
   "source": [
    "### 'Bacterial_duration' feature\n",
    "\n",
    "We introduce the variable 'Bacterial_duration' which represents the duration of a bacterial or bacterial/viral pneumonia episode discovered through a bal exam. We consider a decreasing duration from the day of the exam to the last day of the episode."
   ]
  },
  {
   "cell_type": "code",
   "execution_count": 42,
   "id": "a7ee6fb0-d755-4f7c-83cb-df6057b1c659",
   "metadata": {},
   "outputs": [],
   "source": [
    "new_col = []\n",
    "\n",
    "for i in patient_id:\n",
    "    \n",
    "    n_stays = dataset_df.loc[dataset_df['Patient_id']==i, 'ICU_stay'].max()\n",
    "\n",
    "    for j in range(1, n_stays+1):\n",
    "        len_stay = dataset_df.loc[(dataset_df['Patient_id']==i) & (dataset_df['ICU_stay']==j)].shape[0]\n",
    "        val = 0\n",
    "        duration = 0\n",
    "        \n",
    "        for k in range(0, len_stay):\n",
    "\n",
    "            val = dataset_df.loc[(dataset_df['Patient_id']==i) & (dataset_df['ICU_stay']==j), 'Episode_duration'].iloc[k]\n",
    "            \n",
    "            if ~np.isnan(val):\n",
    "                new_col.append(val)\n",
    "                duration = val\n",
    "                duration-=1\n",
    "            elif ( (np.isnan(val)) & (duration>0) ):\n",
    "                new_col.append(duration)\n",
    "                duration-=1\n",
    "            else:\n",
    "                new_col.append(0)\n",
    "\n",
    "    \n",
    "dataset_df['Bacterial_duration'] = new_col\n"
   ]
  },
  {
   "cell_type": "code",
   "execution_count": 43,
   "id": "86becd86",
   "metadata": {},
   "outputs": [],
   "source": [
    "# For each day, if the patient has not a bal exam that day, we copy the information about the most recent bal duration\n",
    "ids = np.unique(dataset_df['Patient_id'])\n",
    "for i in ids:\n",
    "    personal_col = dataset_df.loc[dataset_df['Patient_id']==i, ['has_bal','Episode_duration']] \n",
    "    \n",
    "    for j in np.arange(personal_col.index[0]+1, personal_col.index[0]+len(personal_col)):\n",
    "        if personal_col.loc[j, 'has_bal']==False:\n",
    "            personal_col.loc[j, 'Episode_duration']= personal_col.loc[j-1, 'Episode_duration']\n",
    "\n",
    "    dataset_df.loc[dataset_df['Patient_id']==i, 'Episode_duration'] = personal_col['Episode_duration']\n",
    "\n",
    "dataset_df['Episode_duration'].fillna(0, inplace= True)"
   ]
  },
  {
   "cell_type": "code",
   "execution_count": 44,
   "id": "cc1699ff-866f-4aa1-91e5-2c7e2117fdf1",
   "metadata": {},
   "outputs": [],
   "source": [
    "dataset_df.loc[dataset_df['Episode_category'] == 'Non-PNA-ctrl', 'Episode_etiology'] = 'Non-PNA-ctrl'\n",
    "\n",
    "# we introduce a category if the bal is not performed yet to fill the remain nan\n",
    "dataset_df['Episode_category'].fillna('Before-first-bal', inplace=True)\n",
    "dataset_df['Episode_etiology'].fillna('Before-first-bal', inplace=True)"
   ]
  },
  {
   "cell_type": "markdown",
   "id": "7d3dd5c0",
   "metadata": {},
   "source": [
    "# Correlation among features\n",
    "We study the correlation among numerical variables. Given the correlation matrix, we consider the pairs of variables that have an absolute value of the correlation coefficient larger than 0.72."
   ]
  },
  {
   "cell_type": "code",
   "execution_count": 45,
   "id": "5663a988-5587-4cc2-992c-3d50dbb42ce0",
   "metadata": {},
   "outputs": [
    {
     "data": {
      "text/plain": [
       "Index(['Patient_id/ICU_stay/ICU_day', 'Patient_id', 'External_transfer_flag',\n",
       "       'Admission_source_name', 'Discharge_disposition', 'Binary_outcome',\n",
       "       'Patient_category', 'COVID_status', 'Age', 'Ethnicity', 'Gender',\n",
       "       'Race', 'Smoking_status', 'BMI', 'Admit_APS_score', 'Admit_SOFA_score',\n",
       "       'Tracheostomy_flag', 'ICU_stay', 'ICU_day', 'SOFA_score', 'ECMO_flag',\n",
       "       'Intubation_flag', 'Hemodialysis_flag', 'CRRT_flag', 'Temperature',\n",
       "       'Heart_rate', 'Systolic_blood_pressure', 'Diastolic_blood_pressure',\n",
       "       'Mean_arterial_pressure', 'Norepinephrine_rate', 'Norepinephrine_flag',\n",
       "       'Respiratory_rate', 'Oxygen_saturation', 'Urine_output',\n",
       "       'GCS_eye_opening', 'GCS_motor_response', 'GCS_verbal_response',\n",
       "       'RASS_score', 'PEEP', 'FiO2', 'Plateau_Pressure', 'Lung_Compliance',\n",
       "       'PEEP_changes', 'Respiratory_rate_changes', 'FiO2_changes', 'ABG_pH',\n",
       "       'ABG_PaCO2', 'ABG_PaO2', 'PaO2FIO2_ratio', 'WBC_count', 'Lymphocytes',\n",
       "       'Neutrophils', 'Hemoglobin', 'Platelets', 'Bicarbonate', 'Creatinine',\n",
       "       'Albumin', 'Bilirubin', 'has_bal', 'Episode_category',\n",
       "       'Episode_etiology', 'Episode_duration', 'GCS_total', 'Next_day_outcome',\n",
       "       'Cumulative_days', 'Cumulative_intub_days', 'Cumulative_bal',\n",
       "       'Bacterial_duration'],\n",
       "      dtype='object')"
      ]
     },
     "execution_count": 45,
     "metadata": {},
     "output_type": "execute_result"
    }
   ],
   "source": [
    "dataset_df.columns"
   ]
  },
  {
   "cell_type": "code",
   "execution_count": 46,
   "id": "da175bcc",
   "metadata": {},
   "outputs": [
    {
     "data": {
      "image/png": "[encoded data removed]",
      "text/plain": [
       "<Figure size 2000x2000 with 2 Axes>"
      ]
     },
     "metadata": {},
     "output_type": "display_data"
    }
   ],
   "source": [
    "numeric_columns  = ['Age', 'BMI', 'Admit_APS_score', 'Admit_SOFA_score', 'SOFA_score',\n",
    "                    'Temperature', 'Heart_rate', 'Systolic_blood_pressure', 'Diastolic_blood_pressure', 'Mean_arterial_pressure',\n",
    "                    'Norepinephrine_rate', 'Respiratory_rate', 'Oxygen_saturation', 'Urine_output', 'GCS_eye_opening',\n",
    "                    'GCS_motor_response', 'GCS_verbal_response', 'RASS_score', 'PEEP', 'FiO2', 'Plateau_Pressure', 'Lung_Compliance',\n",
    "                    'PEEP_changes', 'Respiratory_rate_changes', 'FiO2_changes', 'ABG_pH', 'ABG_PaCO2',\n",
    "                    'ABG_PaO2', 'PaO2FIO2_ratio', 'WBC_count', 'Lymphocytes', 'Neutrophils',\n",
    "                    'Hemoglobin', 'Platelets', 'Bicarbonate', 'Creatinine', 'Albumin',\n",
    "                    'Bilirubin', 'Episode_duration','GCS_total', 'Cumulative_days','Cumulative_intub_days', 'Cumulative_bal', 'Bacterial_duration']\n",
    "\n",
    "correlation_matrix = dataset_df[numeric_columns].corr()\n",
    "filtered_corr = correlation_matrix[abs(correlation_matrix) > 0.72]\n",
    "\n",
    "mask = np.triu(np.ones_like(filtered_corr, dtype=bool))\n",
    "f, ax = plt.subplots(figsize=(20, 20))\n",
    "cmap = sns.diverging_palette(230, 20, as_cmap=True)\n",
    "\n",
    "sns.heatmap(filtered_corr, mask=mask, cmap=cmap, vmax=1, center=0,\n",
    "            square=True, linewidths=.5, cbar_kws={\"shrink\": .5},\n",
    "            annot=True, fmt=\".2f\")\n",
    "plt.show()"
   ]
  },
  {
   "cell_type": "markdown",
   "id": "213842d6-acb3-4c18-b017-abb42f16487d",
   "metadata": {},
   "source": [
    "### Correlation between 'WBC_count' and 'Neutrophils'\n",
    "These two features are highly correlated; we choose to keep only the variable 'WBC_count' since it has less null values than 'Neutrophils'."
   ]
  },
  {
   "cell_type": "code",
   "execution_count": 47,
   "id": "190c64e4",
   "metadata": {},
   "outputs": [
    {
     "name": "stdout",
     "output_type": "stream",
     "text": [
      "             WBC_count  Neutrophils\n",
      "WBC_count     1.000000     0.903878\n",
      "Neutrophils   0.903878     1.000000\n"
     ]
    },
    {
     "data": {
      "image/png": "[encoded data removed]",
      "text/plain": [
       "<Figure size 640x480 with 1 Axes>"
      ]
     },
     "metadata": {},
     "output_type": "display_data"
    }
   ],
   "source": [
    "print(dataset_df[['WBC_count','Neutrophils']].corr())\n",
    "\n",
    "plt.scatter(dataset_df['WBC_count'], dataset_df['Neutrophils'])\n",
    "plt.title('Scatterplot of WBC_count vs Neutrophils')\n",
    "plt.xlabel('WBC_count')\n",
    "plt.ylabel('Neutrophils')\n",
    "\n",
    "dataset_df.drop(['Neutrophils'], axis=1, inplace=True)"
   ]
  },
  {
   "cell_type": "markdown",
   "id": "9bf2744b-051b-460f-8f8f-97ddfc59c66c",
   "metadata": {},
   "source": [
    "### Correlation between 'RASS_score', 'GCS_total', 'GCS_eye_opening', 'GCS_motor_response' and 'GCS_verbal_response'\n",
    "These features are all highly correlated, we choose to keep only the variable 'GCS_total'."
   ]
  },
  {
   "cell_type": "code",
   "execution_count": 48,
   "id": "5bfb7636",
   "metadata": {},
   "outputs": [
    {
     "name": "stdout",
     "output_type": "stream",
     "text": [
      "                     RASS_score  GCS_total  GCS_eye_opening  \\\n",
      "RASS_score             1.000000   0.781100         0.773453   \n",
      "GCS_total              0.781100   1.000000         0.871789   \n",
      "GCS_eye_opening        0.773453   0.871789         1.000000   \n",
      "GCS_motor_response     0.773453   0.911088         0.760648   \n",
      "GCS_verbal_response    0.485963   0.778712         0.529959   \n",
      "\n",
      "                     GCS_motor_response  GCS_verbal_response  \n",
      "RASS_score                     0.773453             0.485963  \n",
      "GCS_total                      0.911088             0.778712  \n",
      "GCS_eye_opening                0.760648             0.529959  \n",
      "GCS_motor_response             1.000000             0.507270  \n",
      "GCS_verbal_response            0.507270             1.000000  \n"
     ]
    }
   ],
   "source": [
    "print(dataset_df[['RASS_score','GCS_total','GCS_eye_opening','GCS_motor_response','GCS_verbal_response']].corr())\n",
    "\n",
    "dataset_df.drop(['RASS_score','GCS_eye_opening','GCS_motor_response','GCS_verbal_response'], axis=1, inplace=True)"
   ]
  },
  {
   "cell_type": "markdown",
   "id": "deabf8e6-d570-4944-a424-ef634bbff603",
   "metadata": {},
   "source": [
    "### Correlation between 'Bicarbonate' and 'ABG_PaCO2'\n",
    "These two features are highly correlated; we choose to keep only the variable 'Bicarbonate' since it has less null values than 'ABG_PaCO2'."
   ]
  },
  {
   "cell_type": "code",
   "execution_count": 49,
   "id": "d6784cac",
   "metadata": {},
   "outputs": [
    {
     "name": "stdout",
     "output_type": "stream",
     "text": [
      "             Bicarbonate  ABG_PaCO2\n",
      "Bicarbonate     1.000000   0.747441\n",
      "ABG_PaCO2       0.747441   1.000000\n"
     ]
    },
    {
     "data": {
      "image/png": "[encoded data removed]",
      "text/plain": [
       "<Figure size 640x480 with 1 Axes>"
      ]
     },
     "metadata": {},
     "output_type": "display_data"
    }
   ],
   "source": [
    "print(dataset_df[['Bicarbonate','ABG_PaCO2']].corr())\n",
    "\n",
    "plt.scatter(dataset_df['Bicarbonate'], dataset_df['ABG_PaCO2'])\n",
    "plt.title('Scatterplot of Bicarbonate vs ABG_PaCO2')\n",
    "plt.xlabel('Bicarbonate')\n",
    "plt.ylabel('ABG_PaCO2')\n",
    "\n",
    "dataset_df.drop(['ABG_PaCO2'], axis=1, inplace=True)"
   ]
  },
  {
   "cell_type": "markdown",
   "id": "4cda1436-b362-4b0c-a85e-a6250d68548c",
   "metadata": {},
   "source": [
    "### Correlation between 'Diastolic_blood_pressure' and 'Mean_arterial_pressure'\n",
    "These two features are highly correlated; we choose to keep only the variable 'Diastolic_blood_pressure' since it has less null values than 'Mean_arterial_pressure'."
   ]
  },
  {
   "cell_type": "code",
   "execution_count": 50,
   "id": "37b0938f",
   "metadata": {},
   "outputs": [
    {
     "name": "stdout",
     "output_type": "stream",
     "text": [
      "                          Diastolic_blood_pressure  Mean_arterial_pressure\n",
      "Diastolic_blood_pressure                  1.000000                0.731073\n",
      "Mean_arterial_pressure                    0.731073                1.000000\n"
     ]
    },
    {
     "data": {
      "image/png": "[encoded data removed]",
      "text/plain": [
       "<Figure size 640x480 with 1 Axes>"
      ]
     },
     "metadata": {},
     "output_type": "display_data"
    }
   ],
   "source": [
    "print(dataset_df[['Diastolic_blood_pressure','Mean_arterial_pressure']].corr())\n",
    "\n",
    "plt.scatter(dataset_df['Diastolic_blood_pressure'], dataset_df['Mean_arterial_pressure'])\n",
    "plt.title('Scatterplot of Diastolic_blood_pressure vs Mean_arterial_pressure')\n",
    "plt.xlabel('Diastolic_blood_pressure')\n",
    "plt.ylabel('Mean_arterial_pressure')\n",
    "\n",
    "dataset_df.drop(['Mean_arterial_pressure'], axis=1, inplace=True)"
   ]
  },
  {
   "cell_type": "markdown",
   "id": "d70b26ca",
   "metadata": {},
   "source": [
    "### Correlation among 'PEEP', 'FiO2', 'Plateau_Pressure'\n",
    "These three features are highly correlated; we choose to keep only the variable 'FiO2' since it has less null values than others."
   ]
  },
  {
   "cell_type": "code",
   "execution_count": 51,
   "id": "f7cd7d92",
   "metadata": {},
   "outputs": [
    {
     "name": "stdout",
     "output_type": "stream",
     "text": [
      "                      PEEP      FiO2  Plateau_Pressure\n",
      "PEEP              1.000000  0.738116          0.840004\n",
      "FiO2              0.738116  1.000000          0.824783\n",
      "Plateau_Pressure  0.840004  0.824783          1.000000\n"
     ]
    },
    {
     "data": {
      "image/png": "[encoded data removed]",
      "text/plain": [
       "<Figure size 1800x600 with 3 Axes>"
      ]
     },
     "metadata": {},
     "output_type": "display_data"
    }
   ],
   "source": [
    "print(dataset_df[['PEEP','FiO2','Plateau_Pressure']].corr())\n",
    "\n",
    "fig, axes = plt.subplots(nrows=1, ncols=3, figsize = (18,6))\n",
    "\n",
    "axes[0].scatter(dataset_df['PEEP'], dataset_df['FiO2'])\n",
    "axes[0].set_title('Scatterplot of PEEP vs FiO2')\n",
    "axes[0].set_xlabel('PEEP')\n",
    "axes[0].set_ylabel('FiO2')\n",
    "\n",
    "axes[1].scatter(dataset_df['PEEP'], dataset_df['Plateau_Pressure'])\n",
    "axes[1].set_title('Scatterplot of PEEP vs Plateau_Pressure')\n",
    "axes[1].set_xlabel('PEEP')\n",
    "axes[1].set_ylabel('Plateau_Pressure')\n",
    "\n",
    "axes[2].scatter(dataset_df['Plateau_Pressure'], dataset_df['FiO2'])\n",
    "axes[2].set_title('Scatterplot of Plateau_Pressure vs FiO2')\n",
    "axes[2].set_xlabel('Plateau_Pressure')\n",
    "axes[2].set_ylabel('FiO2')\n",
    "\n",
    "\n",
    "dataset_df.drop(['Plateau_Pressure', 'PEEP'], axis=1, inplace=True)"
   ]
  },
  {
   "cell_type": "markdown",
   "id": "3969cc26",
   "metadata": {},
   "source": [
    "### Correlation among 'Cumulative_days' and 'Cumulative_intub_days'\n",
    "These features are highly correlated; we choose to keep only the variable 'Cumulative_intub_days' since we think it is more relevant for analysis on pneumonia."
   ]
  },
  {
   "cell_type": "code",
   "execution_count": 52,
   "id": "79c5fa25",
   "metadata": {},
   "outputs": [
    {
     "name": "stdout",
     "output_type": "stream",
     "text": [
      "                       Cumulative_days  Cumulative_intub_days\n",
      "Cumulative_days               1.000000               0.915462\n",
      "Cumulative_intub_days         0.915462               1.000000\n"
     ]
    },
    {
     "data": {
      "image/png": "[encoded data removed]",
      "text/plain": [
       "<Figure size 640x480 with 1 Axes>"
      ]
     },
     "metadata": {},
     "output_type": "display_data"
    }
   ],
   "source": [
    "print(dataset_df[['Cumulative_days','Cumulative_intub_days']].corr())\n",
    "\n",
    "plt.scatter(dataset_df['Cumulative_days'], dataset_df['Cumulative_intub_days'])\n",
    "plt.title('Scatterplot of Cumulative_days vs Cumulative_intub_days')\n",
    "plt.xlabel('Cumulative_days')\n",
    "plt.ylabel('Cumulative_intub_days')\n",
    "\n",
    "dataset_df.drop(['Cumulative_days'], axis=1, inplace=True)"
   ]
  },
  {
   "cell_type": "markdown",
   "id": "00f41015",
   "metadata": {},
   "source": [
    "# Check variables' ranges\n",
    "We want to check the range of variables, to eventually discard observations incorrectly registered and so clinically meaningless. "
   ]
  },
  {
   "cell_type": "code",
   "execution_count": 53,
   "id": "613c7f82",
   "metadata": {},
   "outputs": [
    {
     "data": {
      "text/html": [
       "<div>\n",
       "<style scoped>\n",
       "    .dataframe tbody tr th:only-of-type {\n",
       "        vertical-align: middle;\n",
       "    }\n",
       "\n",
       "    .dataframe tbody tr th {\n",
       "        vertical-align: top;\n",
       "    }\n",
       "\n",
       "    .dataframe thead th {\n",
       "        text-align: right;\n",
       "    }\n",
       "</style>\n",
       "<table border=\"1\" class=\"dataframe\">\n",
       "  <thead>\n",
       "    <tr style=\"text-align: right;\">\n",
       "      <th></th>\n",
       "      <th>Patient_id</th>\n",
       "      <th>External_transfer_flag</th>\n",
       "      <th>Binary_outcome</th>\n",
       "      <th>Age</th>\n",
       "      <th>BMI</th>\n",
       "      <th>Admit_APS_score</th>\n",
       "      <th>Admit_SOFA_score</th>\n",
       "      <th>Tracheostomy_flag</th>\n",
       "      <th>ICU_stay</th>\n",
       "      <th>ICU_day</th>\n",
       "      <th>SOFA_score</th>\n",
       "      <th>ECMO_flag</th>\n",
       "      <th>Intubation_flag</th>\n",
       "      <th>Hemodialysis_flag</th>\n",
       "      <th>CRRT_flag</th>\n",
       "      <th>Temperature</th>\n",
       "      <th>Heart_rate</th>\n",
       "      <th>Systolic_blood_pressure</th>\n",
       "      <th>Diastolic_blood_pressure</th>\n",
       "      <th>Norepinephrine_rate</th>\n",
       "      <th>Norepinephrine_flag</th>\n",
       "      <th>Respiratory_rate</th>\n",
       "      <th>Oxygen_saturation</th>\n",
       "      <th>Urine_output</th>\n",
       "      <th>FiO2</th>\n",
       "      <th>Lung_Compliance</th>\n",
       "      <th>PEEP_changes</th>\n",
       "      <th>Respiratory_rate_changes</th>\n",
       "      <th>FiO2_changes</th>\n",
       "      <th>ABG_pH</th>\n",
       "      <th>ABG_PaO2</th>\n",
       "      <th>PaO2FIO2_ratio</th>\n",
       "      <th>WBC_count</th>\n",
       "      <th>Lymphocytes</th>\n",
       "      <th>Hemoglobin</th>\n",
       "      <th>Platelets</th>\n",
       "      <th>Bicarbonate</th>\n",
       "      <th>Creatinine</th>\n",
       "      <th>Albumin</th>\n",
       "      <th>Bilirubin</th>\n",
       "      <th>Episode_duration</th>\n",
       "      <th>GCS_total</th>\n",
       "      <th>Next_day_outcome</th>\n",
       "      <th>Cumulative_intub_days</th>\n",
       "      <th>Cumulative_bal</th>\n",
       "      <th>Bacterial_duration</th>\n",
       "    </tr>\n",
       "  </thead>\n",
       "  <tbody>\n",
       "    <tr>\n",
       "      <th>count</th>\n",
       "      <td>6023.000000</td>\n",
       "      <td>6023.000000</td>\n",
       "      <td>6023.00000</td>\n",
       "      <td>6023.000000</td>\n",
       "      <td>6023.000000</td>\n",
       "      <td>6023.000000</td>\n",
       "      <td>6023.000000</td>\n",
       "      <td>6023.000000</td>\n",
       "      <td>6023.000000</td>\n",
       "      <td>6023.000000</td>\n",
       "      <td>6023.000000</td>\n",
       "      <td>6023.000000</td>\n",
       "      <td>6023.000000</td>\n",
       "      <td>6023.000000</td>\n",
       "      <td>6023.000000</td>\n",
       "      <td>6021.000000</td>\n",
       "      <td>6022.000000</td>\n",
       "      <td>6022.000000</td>\n",
       "      <td>6022.000000</td>\n",
       "      <td>6023.000000</td>\n",
       "      <td>6023.000000</td>\n",
       "      <td>5994.000000</td>\n",
       "      <td>6020.000000</td>\n",
       "      <td>5135.000000</td>\n",
       "      <td>5888.000000</td>\n",
       "      <td>5467.000000</td>\n",
       "      <td>5895.000000</td>\n",
       "      <td>5895.000000</td>\n",
       "      <td>5895.000000</td>\n",
       "      <td>3433.000000</td>\n",
       "      <td>3432.000000</td>\n",
       "      <td>3979.000000</td>\n",
       "      <td>5945.000000</td>\n",
       "      <td>3877.000000</td>\n",
       "      <td>5890.000000</td>\n",
       "      <td>5984.000000</td>\n",
       "      <td>5945.000000</td>\n",
       "      <td>5930.000000</td>\n",
       "      <td>4716.000000</td>\n",
       "      <td>4597.000000</td>\n",
       "      <td>6023.000000</td>\n",
       "      <td>6023.000000</td>\n",
       "      <td>6023.000000</td>\n",
       "      <td>6023.000000</td>\n",
       "      <td>6023.000000</td>\n",
       "      <td>6023.000000</td>\n",
       "    </tr>\n",
       "    <tr>\n",
       "      <th>mean</th>\n",
       "      <td>4650.982401</td>\n",
       "      <td>0.311141</td>\n",
       "      <td>0.48099</td>\n",
       "      <td>60.989374</td>\n",
       "      <td>30.165672</td>\n",
       "      <td>86.289391</td>\n",
       "      <td>10.430184</td>\n",
       "      <td>0.250374</td>\n",
       "      <td>1.250872</td>\n",
       "      <td>8.663125</td>\n",
       "      <td>8.868338</td>\n",
       "      <td>0.052466</td>\n",
       "      <td>0.787149</td>\n",
       "      <td>0.044994</td>\n",
       "      <td>0.149095</td>\n",
       "      <td>98.704752</td>\n",
       "      <td>87.712543</td>\n",
       "      <td>119.989792</td>\n",
       "      <td>60.945176</td>\n",
       "      <td>0.049879</td>\n",
       "      <td>0.376723</td>\n",
       "      <td>22.889255</td>\n",
       "      <td>96.403016</td>\n",
       "      <td>1302.421130</td>\n",
       "      <td>34.145232</td>\n",
       "      <td>24.483689</td>\n",
       "      <td>1.282952</td>\n",
       "      <td>1.589313</td>\n",
       "      <td>1.485327</td>\n",
       "      <td>7.396370</td>\n",
       "      <td>95.618886</td>\n",
       "      <td>196.017190</td>\n",
       "      <td>12.390169</td>\n",
       "      <td>1.038392</td>\n",
       "      <td>9.131497</td>\n",
       "      <td>195.017881</td>\n",
       "      <td>25.709509</td>\n",
       "      <td>1.525964</td>\n",
       "      <td>2.761209</td>\n",
       "      <td>1.523209</td>\n",
       "      <td>4.029719</td>\n",
       "      <td>8.450772</td>\n",
       "      <td>0.030882</td>\n",
       "      <td>8.749128</td>\n",
       "      <td>0.859372</td>\n",
       "      <td>1.604018</td>\n",
       "    </tr>\n",
       "    <tr>\n",
       "      <th>std</th>\n",
       "      <td>2952.949074</td>\n",
       "      <td>0.462999</td>\n",
       "      <td>0.49968</td>\n",
       "      <td>11.885296</td>\n",
       "      <td>7.718569</td>\n",
       "      <td>32.546302</td>\n",
       "      <td>4.446187</td>\n",
       "      <td>0.433264</td>\n",
       "      <td>0.613954</td>\n",
       "      <td>6.553506</td>\n",
       "      <td>4.739942</td>\n",
       "      <td>0.222982</td>\n",
       "      <td>0.409357</td>\n",
       "      <td>0.207309</td>\n",
       "      <td>0.356212</td>\n",
       "      <td>1.149319</td>\n",
       "      <td>16.910356</td>\n",
       "      <td>17.254345</td>\n",
       "      <td>10.127405</td>\n",
       "      <td>0.094370</td>\n",
       "      <td>0.484605</td>\n",
       "      <td>5.430116</td>\n",
       "      <td>2.230983</td>\n",
       "      <td>1107.048588</td>\n",
       "      <td>23.249440</td>\n",
       "      <td>18.131424</td>\n",
       "      <td>1.109086</td>\n",
       "      <td>1.430598</td>\n",
       "      <td>1.242588</td>\n",
       "      <td>0.074532</td>\n",
       "      <td>30.764576</td>\n",
       "      <td>100.246399</td>\n",
       "      <td>8.254975</td>\n",
       "      <td>0.816449</td>\n",
       "      <td>1.803192</td>\n",
       "      <td>134.282667</td>\n",
       "      <td>5.366147</td>\n",
       "      <td>1.265340</td>\n",
       "      <td>0.539845</td>\n",
       "      <td>2.122215</td>\n",
       "      <td>5.209457</td>\n",
       "      <td>4.328644</td>\n",
       "      <td>0.173011</td>\n",
       "      <td>7.889345</td>\n",
       "      <td>0.606328</td>\n",
       "      <td>3.222476</td>\n",
       "    </tr>\n",
       "    <tr>\n",
       "      <th>min</th>\n",
       "      <td>43.000000</td>\n",
       "      <td>0.000000</td>\n",
       "      <td>0.00000</td>\n",
       "      <td>30.000000</td>\n",
       "      <td>12.460000</td>\n",
       "      <td>23.000000</td>\n",
       "      <td>0.000000</td>\n",
       "      <td>0.000000</td>\n",
       "      <td>1.000000</td>\n",
       "      <td>1.000000</td>\n",
       "      <td>0.000000</td>\n",
       "      <td>0.000000</td>\n",
       "      <td>0.000000</td>\n",
       "      <td>0.000000</td>\n",
       "      <td>0.000000</td>\n",
       "      <td>90.180000</td>\n",
       "      <td>41.625000</td>\n",
       "      <td>69.227273</td>\n",
       "      <td>33.866667</td>\n",
       "      <td>0.000000</td>\n",
       "      <td>0.000000</td>\n",
       "      <td>1.000000</td>\n",
       "      <td>75.888889</td>\n",
       "      <td>0.000000</td>\n",
       "      <td>0.000000</td>\n",
       "      <td>0.000000</td>\n",
       "      <td>0.000000</td>\n",
       "      <td>0.000000</td>\n",
       "      <td>0.000000</td>\n",
       "      <td>6.920000</td>\n",
       "      <td>32.000000</td>\n",
       "      <td>3.000000</td>\n",
       "      <td>0.100000</td>\n",
       "      <td>0.000000</td>\n",
       "      <td>5.000000</td>\n",
       "      <td>1.000000</td>\n",
       "      <td>7.750000</td>\n",
       "      <td>0.200000</td>\n",
       "      <td>1.500000</td>\n",
       "      <td>0.200000</td>\n",
       "      <td>0.000000</td>\n",
       "      <td>0.000000</td>\n",
       "      <td>0.000000</td>\n",
       "      <td>0.000000</td>\n",
       "      <td>0.000000</td>\n",
       "      <td>0.000000</td>\n",
       "    </tr>\n",
       "    <tr>\n",
       "      <th>25%</th>\n",
       "      <td>2016.000000</td>\n",
       "      <td>0.000000</td>\n",
       "      <td>0.00000</td>\n",
       "      <td>53.000000</td>\n",
       "      <td>25.130000</td>\n",
       "      <td>63.000000</td>\n",
       "      <td>8.000000</td>\n",
       "      <td>0.000000</td>\n",
       "      <td>1.000000</td>\n",
       "      <td>3.000000</td>\n",
       "      <td>5.000000</td>\n",
       "      <td>0.000000</td>\n",
       "      <td>1.000000</td>\n",
       "      <td>0.000000</td>\n",
       "      <td>0.000000</td>\n",
       "      <td>98.050000</td>\n",
       "      <td>75.158854</td>\n",
       "      <td>107.500000</td>\n",
       "      <td>53.951389</td>\n",
       "      <td>0.000000</td>\n",
       "      <td>0.000000</td>\n",
       "      <td>18.948026</td>\n",
       "      <td>94.920000</td>\n",
       "      <td>443.500000</td>\n",
       "      <td>22.158730</td>\n",
       "      <td>6.058333</td>\n",
       "      <td>1.000000</td>\n",
       "      <td>1.000000</td>\n",
       "      <td>1.000000</td>\n",
       "      <td>7.350000</td>\n",
       "      <td>76.108333</td>\n",
       "      <td>123.640000</td>\n",
       "      <td>7.300000</td>\n",
       "      <td>0.400000</td>\n",
       "      <td>7.750000</td>\n",
       "      <td>85.000000</td>\n",
       "      <td>22.250000</td>\n",
       "      <td>0.680000</td>\n",
       "      <td>2.400000</td>\n",
       "      <td>0.500000</td>\n",
       "      <td>0.000000</td>\n",
       "      <td>4.000000</td>\n",
       "      <td>0.000000</td>\n",
       "      <td>3.000000</td>\n",
       "      <td>0.000000</td>\n",
       "      <td>0.000000</td>\n",
       "    </tr>\n",
       "    <tr>\n",
       "      <th>50%</th>\n",
       "      <td>4361.000000</td>\n",
       "      <td>0.000000</td>\n",
       "      <td>0.00000</td>\n",
       "      <td>62.000000</td>\n",
       "      <td>29.680000</td>\n",
       "      <td>88.000000</td>\n",
       "      <td>10.000000</td>\n",
       "      <td>0.000000</td>\n",
       "      <td>1.000000</td>\n",
       "      <td>7.000000</td>\n",
       "      <td>9.000000</td>\n",
       "      <td>0.000000</td>\n",
       "      <td>1.000000</td>\n",
       "      <td>0.000000</td>\n",
       "      <td>0.000000</td>\n",
       "      <td>98.600000</td>\n",
       "      <td>86.506757</td>\n",
       "      <td>117.268468</td>\n",
       "      <td>59.710801</td>\n",
       "      <td>0.000000</td>\n",
       "      <td>0.000000</td>\n",
       "      <td>22.311422</td>\n",
       "      <td>96.545933</td>\n",
       "      <td>1062.000000</td>\n",
       "      <td>35.000000</td>\n",
       "      <td>26.000000</td>\n",
       "      <td>1.000000</td>\n",
       "      <td>1.000000</td>\n",
       "      <td>1.000000</td>\n",
       "      <td>7.404000</td>\n",
       "      <td>88.666667</td>\n",
       "      <td>174.730000</td>\n",
       "      <td>10.700000</td>\n",
       "      <td>0.900000</td>\n",
       "      <td>8.600000</td>\n",
       "      <td>179.000000</td>\n",
       "      <td>25.333333</td>\n",
       "      <td>1.090000</td>\n",
       "      <td>2.700000</td>\n",
       "      <td>0.700000</td>\n",
       "      <td>0.000000</td>\n",
       "      <td>9.000000</td>\n",
       "      <td>0.000000</td>\n",
       "      <td>7.000000</td>\n",
       "      <td>1.000000</td>\n",
       "      <td>0.000000</td>\n",
       "    </tr>\n",
       "    <tr>\n",
       "      <th>75%</th>\n",
       "      <td>7208.000000</td>\n",
       "      <td>1.000000</td>\n",
       "      <td>1.00000</td>\n",
       "      <td>71.000000</td>\n",
       "      <td>34.690000</td>\n",
       "      <td>109.000000</td>\n",
       "      <td>13.000000</td>\n",
       "      <td>1.000000</td>\n",
       "      <td>1.000000</td>\n",
       "      <td>13.000000</td>\n",
       "      <td>12.000000</td>\n",
       "      <td>0.000000</td>\n",
       "      <td>1.000000</td>\n",
       "      <td>0.000000</td>\n",
       "      <td>0.000000</td>\n",
       "      <td>99.333333</td>\n",
       "      <td>99.290179</td>\n",
       "      <td>130.374668</td>\n",
       "      <td>67.048611</td>\n",
       "      <td>0.062610</td>\n",
       "      <td>1.000000</td>\n",
       "      <td>26.291331</td>\n",
       "      <td>98.153846</td>\n",
       "      <td>1940.000000</td>\n",
       "      <td>46.666667</td>\n",
       "      <td>37.250000</td>\n",
       "      <td>2.000000</td>\n",
       "      <td>2.000000</td>\n",
       "      <td>2.000000</td>\n",
       "      <td>7.450000</td>\n",
       "      <td>107.762500</td>\n",
       "      <td>250.000000</td>\n",
       "      <td>15.400000</td>\n",
       "      <td>1.400000</td>\n",
       "      <td>10.200000</td>\n",
       "      <td>280.000000</td>\n",
       "      <td>29.000000</td>\n",
       "      <td>1.900000</td>\n",
       "      <td>3.100000</td>\n",
       "      <td>1.400000</td>\n",
       "      <td>7.000000</td>\n",
       "      <td>11.000000</td>\n",
       "      <td>0.000000</td>\n",
       "      <td>13.000000</td>\n",
       "      <td>1.000000</td>\n",
       "      <td>2.000000</td>\n",
       "    </tr>\n",
       "    <tr>\n",
       "      <th>max</th>\n",
       "      <td>9997.000000</td>\n",
       "      <td>1.000000</td>\n",
       "      <td>1.00000</td>\n",
       "      <td>80.000000</td>\n",
       "      <td>55.750000</td>\n",
       "      <td>183.000000</td>\n",
       "      <td>23.000000</td>\n",
       "      <td>1.000000</td>\n",
       "      <td>6.000000</td>\n",
       "      <td>31.000000</td>\n",
       "      <td>23.000000</td>\n",
       "      <td>1.000000</td>\n",
       "      <td>1.000000</td>\n",
       "      <td>1.000000</td>\n",
       "      <td>1.000000</td>\n",
       "      <td>104.025000</td>\n",
       "      <td>152.875000</td>\n",
       "      <td>193.787234</td>\n",
       "      <td>103.000000</td>\n",
       "      <td>0.751322</td>\n",
       "      <td>1.000000</td>\n",
       "      <td>48.642857</td>\n",
       "      <td>100.000000</td>\n",
       "      <td>6950.000000</td>\n",
       "      <td>100.000000</td>\n",
       "      <td>99.000000</td>\n",
       "      <td>8.000000</td>\n",
       "      <td>8.000000</td>\n",
       "      <td>8.000000</td>\n",
       "      <td>7.630000</td>\n",
       "      <td>404.000000</td>\n",
       "      <td>785.710000</td>\n",
       "      <td>68.100000</td>\n",
       "      <td>6.000000</td>\n",
       "      <td>15.000000</td>\n",
       "      <td>788.000000</td>\n",
       "      <td>45.000000</td>\n",
       "      <td>7.970000</td>\n",
       "      <td>5.700000</td>\n",
       "      <td>14.800000</td>\n",
       "      <td>26.000000</td>\n",
       "      <td>15.000000</td>\n",
       "      <td>1.000000</td>\n",
       "      <td>58.000000</td>\n",
       "      <td>3.000000</td>\n",
       "      <td>26.000000</td>\n",
       "    </tr>\n",
       "  </tbody>\n",
       "</table>\n",
       "</div>"
      ],
      "text/plain": [
       "        Patient_id  External_transfer_flag  Binary_outcome          Age  \\\n",
       "count  6023.000000             6023.000000      6023.00000  6023.000000   \n",
       "mean   4650.982401                0.311141         0.48099    60.989374   \n",
       "std    2952.949074                0.462999         0.49968    11.885296   \n",
       "min      43.000000                0.000000         0.00000    30.000000   \n",
       "25%    2016.000000                0.000000         0.00000    53.000000   \n",
       "50%    4361.000000                0.000000         0.00000    62.000000   \n",
       "75%    7208.000000                1.000000         1.00000    71.000000   \n",
       "max    9997.000000                1.000000         1.00000    80.000000   \n",
       "\n",
       "               BMI  Admit_APS_score  Admit_SOFA_score  Tracheostomy_flag  \\\n",
       "count  6023.000000      6023.000000       6023.000000        6023.000000   \n",
       "mean     30.165672        86.289391         10.430184           0.250374   \n",
       "std       7.718569        32.546302          4.446187           0.433264   \n",
       "min      12.460000        23.000000          0.000000           0.000000   \n",
       "25%      25.130000        63.000000          8.000000           0.000000   \n",
       "50%      29.680000        88.000000         10.000000           0.000000   \n",
       "75%      34.690000       109.000000         13.000000           1.000000   \n",
       "max      55.750000       183.000000         23.000000           1.000000   \n",
       "\n",
       "          ICU_stay      ICU_day   SOFA_score    ECMO_flag  Intubation_flag  \\\n",
       "count  6023.000000  6023.000000  6023.000000  6023.000000      6023.000000   \n",
       "mean      1.250872     8.663125     8.868338     0.052466         0.787149   \n",
       "std       0.613954     6.553506     4.739942     0.222982         0.409357   \n",
       "min       1.000000     1.000000     0.000000     0.000000         0.000000   \n",
       "25%       1.000000     3.000000     5.000000     0.000000         1.000000   \n",
       "50%       1.000000     7.000000     9.000000     0.000000         1.000000   \n",
       "75%       1.000000    13.000000    12.000000     0.000000         1.000000   \n",
       "max       6.000000    31.000000    23.000000     1.000000         1.000000   \n",
       "\n",
       "       Hemodialysis_flag    CRRT_flag  Temperature   Heart_rate  \\\n",
       "count        6023.000000  6023.000000  6021.000000  6022.000000   \n",
       "mean            0.044994     0.149095    98.704752    87.712543   \n",
       "std             0.207309     0.356212     1.149319    16.910356   \n",
       "min             0.000000     0.000000    90.180000    41.625000   \n",
       "25%             0.000000     0.000000    98.050000    75.158854   \n",
       "50%             0.000000     0.000000    98.600000    86.506757   \n",
       "75%             0.000000     0.000000    99.333333    99.290179   \n",
       "max             1.000000     1.000000   104.025000   152.875000   \n",
       "\n",
       "       Systolic_blood_pressure  Diastolic_blood_pressure  Norepinephrine_rate  \\\n",
       "count              6022.000000               6022.000000          6023.000000   \n",
       "mean                119.989792                 60.945176             0.049879   \n",
       "std                  17.254345                 10.127405             0.094370   \n",
       "min                  69.227273                 33.866667             0.000000   \n",
       "25%                 107.500000                 53.951389             0.000000   \n",
       "50%                 117.268468                 59.710801             0.000000   \n",
       "75%                 130.374668                 67.048611             0.062610   \n",
       "max                 193.787234                103.000000             0.751322   \n",
       "\n",
       "       Norepinephrine_flag  Respiratory_rate  Oxygen_saturation  Urine_output  \\\n",
       "count          6023.000000       5994.000000        6020.000000   5135.000000   \n",
       "mean              0.376723         22.889255          96.403016   1302.421130   \n",
       "std               0.484605          5.430116           2.230983   1107.048588   \n",
       "min               0.000000          1.000000          75.888889      0.000000   \n",
       "25%               0.000000         18.948026          94.920000    443.500000   \n",
       "50%               0.000000         22.311422          96.545933   1062.000000   \n",
       "75%               1.000000         26.291331          98.153846   1940.000000   \n",
       "max               1.000000         48.642857         100.000000   6950.000000   \n",
       "\n",
       "              FiO2  Lung_Compliance  PEEP_changes  Respiratory_rate_changes  \\\n",
       "count  5888.000000      5467.000000   5895.000000               5895.000000   \n",
       "mean     34.145232        24.483689      1.282952                  1.589313   \n",
       "std      23.249440        18.131424      1.109086                  1.430598   \n",
       "min       0.000000         0.000000      0.000000                  0.000000   \n",
       "25%      22.158730         6.058333      1.000000                  1.000000   \n",
       "50%      35.000000        26.000000      1.000000                  1.000000   \n",
       "75%      46.666667        37.250000      2.000000                  2.000000   \n",
       "max     100.000000        99.000000      8.000000                  8.000000   \n",
       "\n",
       "       FiO2_changes       ABG_pH     ABG_PaO2  PaO2FIO2_ratio    WBC_count  \\\n",
       "count   5895.000000  3433.000000  3432.000000     3979.000000  5945.000000   \n",
       "mean       1.485327     7.396370    95.618886      196.017190    12.390169   \n",
       "std        1.242588     0.074532    30.764576      100.246399     8.254975   \n",
       "min        0.000000     6.920000    32.000000        3.000000     0.100000   \n",
       "25%        1.000000     7.350000    76.108333      123.640000     7.300000   \n",
       "50%        1.000000     7.404000    88.666667      174.730000    10.700000   \n",
       "75%        2.000000     7.450000   107.762500      250.000000    15.400000   \n",
       "max        8.000000     7.630000   404.000000      785.710000    68.100000   \n",
       "\n",
       "       Lymphocytes   Hemoglobin    Platelets  Bicarbonate   Creatinine  \\\n",
       "count  3877.000000  5890.000000  5984.000000  5945.000000  5930.000000   \n",
       "mean      1.038392     9.131497   195.017881    25.709509     1.525964   \n",
       "std       0.816449     1.803192   134.282667     5.366147     1.265340   \n",
       "min       0.000000     5.000000     1.000000     7.750000     0.200000   \n",
       "25%       0.400000     7.750000    85.000000    22.250000     0.680000   \n",
       "50%       0.900000     8.600000   179.000000    25.333333     1.090000   \n",
       "75%       1.400000    10.200000   280.000000    29.000000     1.900000   \n",
       "max       6.000000    15.000000   788.000000    45.000000     7.970000   \n",
       "\n",
       "           Albumin    Bilirubin  Episode_duration    GCS_total  \\\n",
       "count  4716.000000  4597.000000       6023.000000  6023.000000   \n",
       "mean      2.761209     1.523209          4.029719     8.450772   \n",
       "std       0.539845     2.122215          5.209457     4.328644   \n",
       "min       1.500000     0.200000          0.000000     0.000000   \n",
       "25%       2.400000     0.500000          0.000000     4.000000   \n",
       "50%       2.700000     0.700000          0.000000     9.000000   \n",
       "75%       3.100000     1.400000          7.000000    11.000000   \n",
       "max       5.700000    14.800000         26.000000    15.000000   \n",
       "\n",
       "       Next_day_outcome  Cumulative_intub_days  Cumulative_bal  \\\n",
       "count       6023.000000            6023.000000     6023.000000   \n",
       "mean           0.030882               8.749128        0.859372   \n",
       "std            0.173011               7.889345        0.606328   \n",
       "min            0.000000               0.000000        0.000000   \n",
       "25%            0.000000               3.000000        0.000000   \n",
       "50%            0.000000               7.000000        1.000000   \n",
       "75%            0.000000              13.000000        1.000000   \n",
       "max            1.000000              58.000000        3.000000   \n",
       "\n",
       "       Bacterial_duration  \n",
       "count         6023.000000  \n",
       "mean             1.604018  \n",
       "std              3.222476  \n",
       "min              0.000000  \n",
       "25%              0.000000  \n",
       "50%              0.000000  \n",
       "75%              2.000000  \n",
       "max             26.000000  "
      ]
     },
     "execution_count": 53,
     "metadata": {},
     "output_type": "execute_result"
    }
   ],
   "source": [
    "dataset_df.describe()"
   ]
  },
  {
   "cell_type": "markdown",
   "id": "15bc9e1f",
   "metadata": {},
   "source": [
    "### Analysis of 'Respiratory_rate' values\n",
    "We check the range of values of 'Respiratory_rate' and see that there's a patient with a recorded value of 'Respiratory_rate' lower than 5, in particular 1. We think that this value has no sense, maybe it has been reported wrongly, so we decide to remove the corresponding row from the dataset."
   ]
  },
  {
   "cell_type": "code",
   "execution_count": 54,
   "id": "965ff5f2",
   "metadata": {},
   "outputs": [
    {
     "name": "stdout",
     "output_type": "stream",
     "text": [
      "      Patient_id  Respiratory_rate\n",
      "4423        7038               1.0\n"
     ]
    },
    {
     "data": {
      "image/png": "[encoded data removed]",
      "text/plain": [
       "<Figure size 640x480 with 1 Axes>"
      ]
     },
     "metadata": {},
     "output_type": "display_data"
    }
   ],
   "source": [
    "print(dataset_df.loc[dataset_df['Respiratory_rate'] < 5, ['Patient_id', 'Respiratory_rate']])\n",
    "\n",
    "plt.scatter(dataset_df['Oxygen_saturation'].groupby(dataset_df['Patient_id'], group_keys=True).first(),\n",
    "            dataset_df['Respiratory_rate'].groupby(dataset_df['Patient_id'], group_keys=True).first())\n",
    "plt.scatter(dataset_df.loc[4423, 'Oxygen_saturation'], dataset_df.loc[4423, 'Respiratory_rate'],\n",
    "            color='red', label='Patient 7038 - Outlier')\n",
    "plt.xlabel('Oxygen_saturation')\n",
    "plt.ylabel('Respiratory_rate')\n",
    "plt.legend()\n",
    "plt.show()\n",
    "\n",
    "#Remove this row from the dataset\n",
    "dataset_df = dataset_df[(dataset_df['Patient_id']!= 7038) & (dataset_df['Respiratory_rate']>5)]\n",
    "dataset_df = dataset_df.reset_index(drop=True)"
   ]
  },
  {
   "cell_type": "markdown",
   "id": "25e23cff",
   "metadata": {},
   "source": [
    "# Split Train-Test sets\n",
    "We first use the OneHotEncoder to encode the categorical variables and then split the dataset into training and test sets, stratifying them with respect to the target variable 'Next_day_outcome' in order to keep the same proportion of the classes."
   ]
  },
  {
   "cell_type": "code",
   "execution_count": 55,
   "id": "1902fdb4",
   "metadata": {},
   "outputs": [],
   "source": [
    "dataset_df.replace({pd.NA: np.nan}, inplace=True)"
   ]
  },
  {
   "cell_type": "code",
   "execution_count": 56,
   "id": "334bbce9",
   "metadata": {},
   "outputs": [],
   "source": [
    "# One-Hot Encoding of the categorical variables in the dataset\n",
    "onehot_encoder = OneHotEncoder(sparse_output=False, handle_unknown='ignore', drop='first')\n",
    "encoded_columns = onehot_encoder.fit_transform(dataset_df[['Admission_source_name','Patient_category','COVID_status','Ethnicity',\n",
    "                                                           'Gender','Race','Smoking_status', 'Episode_category','Episode_etiology']].astype(str))\n",
    "encoded_df = pd.DataFrame(encoded_columns, \n",
    "                          columns=onehot_encoder.get_feature_names_out(['Admission_source_name','Patient_category','COVID_status','Ethnicity',\n",
    "                                                                        'Gender','Race','Smoking_status', 'Episode_category','Episode_etiology']))\n",
    " \n",
    "# Concatenate encoded columns with original dataset\n",
    "dataset_df = pd.concat([dataset_df, encoded_df], axis=1)\n",
    "\n",
    "# Drop old categorical variables\n",
    "dataset_df.drop(['Admission_source_name','Patient_category','COVID_status','Ethnicity','Gender','Race','Smoking_status', \n",
    "                 'Episode_category','Episode_etiology'], axis=1, inplace=True)\n"
   ]
  },
  {
   "cell_type": "markdown",
   "id": "67320f07",
   "metadata": {},
   "source": [
    "We can see that the classification problem is very imbalanced since the class related to died patients represents just the 3% of total observations. So in the further steps we need to take into account this situation and introduce some weigths in order to enforce the model to predict correctly also the minority class."
   ]
  },
  {
   "cell_type": "code",
   "execution_count": 57,
   "id": "c0270db4-7a35-4466-bd2a-ea51c71c1b1f",
   "metadata": {},
   "outputs": [
    {
     "data": {
      "text/plain": [
       "Next_day_outcome\n",
       "0    0.969205\n",
       "1    0.030795\n",
       "Name: count, dtype: float64"
      ]
     },
     "execution_count": 57,
     "metadata": {},
     "output_type": "execute_result"
    }
   ],
   "source": [
    "dataset_df['Next_day_outcome'].value_counts() / dataset_df.shape[0]"
   ]
  },
  {
   "cell_type": "code",
   "execution_count": 58,
   "id": "1d03324c",
   "metadata": {},
   "outputs": [
    {
     "name": "stdout",
     "output_type": "stream",
     "text": [
      "Dimension of the training set: (4780, 79)\n",
      "Dimension of the test set: (1195, 79)\n"
     ]
    }
   ],
   "source": [
    "# Split the dataset into train and test sets\n",
    "X_train, X_test, y_train, y_test = train_test_split(dataset_df, dataset_df['Next_day_outcome'], test_size=0.2, \n",
    "                                                    random_state=42, stratify=dataset_df['Next_day_outcome'])\n",
    "\n",
    "# Save a copy that might be useful later\n",
    "info_train = X_train\n",
    "info_test = X_test\n",
    "\n",
    "# Remove features that are useless for the model\n",
    "X_train.drop(['Patient_id/ICU_stay/ICU_day', 'Patient_id', 'Binary_outcome', 'Next_day_outcome', 'Discharge_disposition'], axis=1, inplace=True)\n",
    "X_test.drop(['Patient_id/ICU_stay/ICU_day', 'Patient_id', 'Binary_outcome', 'Next_day_outcome', 'Discharge_disposition'], axis=1, inplace=True)\n",
    "\n",
    "print('Dimension of the training set:', X_train.shape)\n",
    "print('Dimension of the test set:', X_test.shape)"
   ]
  },
  {
   "cell_type": "markdown",
   "id": "e9d47793",
   "metadata": {},
   "source": [
    "# Imputation of values\n",
    "We use a KNN Imputer in order to substitute the remaining null values, choosing the best number of neighbours through 5-Fold Cross Validation."
   ]
  },
  {
   "cell_type": "code",
   "execution_count": 59,
   "id": "fe87ee94",
   "metadata": {},
   "outputs": [
    {
     "data": {
      "text/plain": [
       "0.13349604834960482"
      ]
     },
     "execution_count": 59,
     "metadata": {},
     "output_type": "execute_result"
    }
   ],
   "source": [
    "# Look at the percentage of cells wtih null values to set an appropriate missing rate in next function\n",
    "num_null = X_train.isnull().sum()\n",
    "total_null = num_null[20:38].sum()\n",
    "total_null/(X_train.shape[0]*18)"
   ]
  },
  {
   "cell_type": "code",
   "execution_count": 61,
   "id": "10a602a8",
   "metadata": {},
   "outputs": [],
   "source": [
    "# In order to evaluate the error of the KNN imputer on the dataset, we create a function that masks some known values fixing some missing rate,\n",
    "# impute these values and compute the MSE between the real and the imputed values.\n",
    "def mask_data(df, columns, missing_rate=0.2):\n",
    "    np.random.seed(42)\n",
    "    df_missing = df.copy()\n",
    "    missing_indices = {col: [] for col in columns}\n",
    "    for col in columns:\n",
    "        n_samples = df.shape[0]\n",
    "        n_missing = int(n_samples * missing_rate)\n",
    "        valid_indices = df[df[col].notna()].index         \n",
    "        missing_samples = np.random.choice(valid_indices, n_missing, replace=False, )\n",
    "        df_missing.loc[missing_samples, col] = np.nan\n",
    "        missing_indices[col] = missing_samples\n",
    "\n",
    "    return df_missing, missing_indices\n",
    "\n",
    "def cross_val_imputer(df, columns, param_grid, cv=5, missing_rate=0.15):\n",
    "    kf = KFold(n_splits=cv, shuffle=True, random_state=42)\n",
    "    errors = {k: [] for k in param_grid['n_neighbors']}\n",
    "    for train_index, test_index in kf.split(df):\n",
    "        df_train, df_valid = df.iloc[train_index], df.iloc[test_index]\n",
    "        # Mask data in the training and validation sets\n",
    "        df_train_missing, train_missing_indices = mask_data(df_train, columns, missing_rate)\n",
    "        df_valid_missing, valid_missing_indices = mask_data(df_valid, columns, missing_rate)\n",
    "        for k in param_grid['n_neighbors']:\n",
    "            knn_imputer = KNNImputer(n_neighbors=k)\n",
    "            df_train_imputed = knn_imputer.fit_transform(df_train_missing)\n",
    "            df_valid_imputed = knn_imputer.transform(df_valid_missing)\n",
    "            # Compute the error only on artificially masked values of the validation set\n",
    "            valid_errors = []\n",
    "            for col in columns:\n",
    "                true_values = df_valid.loc[valid_missing_indices[col], col]\n",
    "                imputed_values = df_valid_imputed[df_valid_missing.index.get_indexer(valid_missing_indices[col]), df.columns.get_loc(col)]\n",
    "                valid_errors.append(mean_squared_error(true_values, imputed_values))\n",
    "            errors[k].append(np.mean(valid_errors))\n",
    "    avg_errors = {k: np.mean(errors[k]) for k in errors}\n",
    "    best_k = min(avg_errors, key=avg_errors.get)\n",
    "    \n",
    "    return best_k, avg_errors"
   ]
  },
  {
   "cell_type": "code",
   "execution_count": 63,
   "id": "6c3f8a53",
   "metadata": {},
   "outputs": [
    {
     "name": "stdout",
     "output_type": "stream",
     "text": [
      "The best value of k is: 11\n"
     ]
    }
   ],
   "source": [
    "# Param grid for searching optimal number of neighbors\n",
    "param_grid = {'n_neighbors': list(range(10, 12))}\n",
    "\n",
    "X_train_reset = X_train.reset_index(drop=True)\n",
    "columns_to_mask = X_train_reset.columns[21:38]\n",
    "\n",
    "best_k, avg_errors = cross_val_imputer(X_train_reset, columns_to_mask, param_grid)\n",
    "print(f'The best value of k is: {best_k}')"
   ]
  },
  {
   "cell_type": "code",
   "execution_count": 62,
   "id": "95d44643",
   "metadata": {},
   "outputs": [],
   "source": [
    "# Initialization of KNNImputer\n",
    "knn_imputer = KNNImputer(n_neighbors=best_k, weights='distance')\n",
    "\n",
    "# Imputation of missing values in the training set\n",
    "data_knn_imputed = knn_imputer.fit_transform(X_train)\n",
    "X_train_imputed = pd.DataFrame(data_knn_imputed, columns=X_train.columns)\n",
    "\n",
    "# Imputation of missing values in the test set, using the same KNNImputer\n",
    "data_knn_imputed = knn_imputer.transform(X_test)\n",
    "X_test_imputed = pd.DataFrame(data_knn_imputed, columns=X_test.columns)"
   ]
  },
  {
   "cell_type": "markdown",
   "id": "cb13795a",
   "metadata": {},
   "source": [
    "Standardize numerical data, from both training and test sets"
   ]
  },
  {
   "cell_type": "code",
   "execution_count": 63,
   "id": "72b39100-17d1-4fa1-b503-7e0988535e02",
   "metadata": {},
   "outputs": [],
   "source": [
    "scaler=StandardScaler()\n",
    "\n",
    "numeric_columns = ['Age', 'BMI', 'Admit_APS_score','Admit_SOFA_score', 'ICU_stay','ICU_day','SOFA_score', 'Temperature', 'Heart_rate', \n",
    "                   'Systolic_blood_pressure','Diastolic_blood_pressure', 'Norepinephrine_rate','Respiratory_rate', 'Oxygen_saturation',\n",
    "                   'Urine_output', 'FiO2','Lung_Compliance', 'PEEP_changes', 'Respiratory_rate_changes', 'FiO2_changes', 'ABG_pH',\n",
    "                   'ABG_PaO2', 'PaO2FIO2_ratio', 'WBC_count', 'Lymphocytes', 'Hemoglobin','Platelets', 'Bicarbonate', 'Creatinine', \n",
    "                   'Albumin', 'Bilirubin','Episode_duration','GCS_total','Cumulative_intub_days','Cumulative_bal','Bacterial_duration']\n",
    "\n",
    "X_train_scaled_num=scaler.fit_transform(X_train_imputed[numeric_columns])\n",
    "\n",
    "X_train_scaled=X_train_imputed\n",
    "X_train_scaled[numeric_columns]=X_train_scaled_num"
   ]
  },
  {
   "cell_type": "code",
   "execution_count": 64,
   "id": "1ec7934b",
   "metadata": {},
   "outputs": [],
   "source": [
    "X_test_scaled_num=scaler.transform(X_test_imputed[numeric_columns])\n",
    "\n",
    "X_test_scaled = X_test_imputed\n",
    "X_test_scaled[numeric_columns]=X_test_scaled_num"
   ]
  },
  {
   "cell_type": "markdown",
   "id": "a00a8640",
   "metadata": {},
   "source": [
    "# Classification Models"
   ]
  },
  {
   "cell_type": "code",
   "execution_count": 65,
   "id": "0ee5bc16",
   "metadata": {},
   "outputs": [],
   "source": [
    "# Parameter for the K-Fold Cross Validation\n",
    "kf = KFold(n_splits=5, shuffle=True, random_state=42)"
   ]
  },
  {
   "cell_type": "markdown",
   "id": "5f18b593-6c8d-47e4-91f1-c266fb0d0bfb",
   "metadata": {},
   "source": [
    "## Logistic Regression"
   ]
  },
  {
   "cell_type": "markdown",
   "id": "8ef20cf6-e71b-4994-a7c3-4d49c1bb1a62",
   "metadata": {},
   "source": [
    "### GridSearch for Parameter Selection of Logistic_Regression\n",
    "We implement a GridSearch algorithm to select the best parameters for the Logistic Regression by maximizing the balanced accuracy."
   ]
  },
  {
   "cell_type": "code",
   "execution_count": 66,
   "id": "a2242d1f-fe16-46cb-a12a-d60d0786a755",
   "metadata": {},
   "outputs": [],
   "source": [
    "models = {\n",
    "    \"Logistic Regression\": LogisticRegression(random_state=42, max_iter=10000, class_weight='balanced', solver='liblinear')\n",
    "}\n",
    "\n",
    "param_grids = {\n",
    "    \"Logistic Regression\": {\"C\": [0.001, 0.01, 0.1, 0.5, 1], 'penalty':['l2','l1']}\n",
    "}\n",
    "\n",
    "cv = KFold(n_splits=4, shuffle=True, random_state=42)\n",
    "\n",
    "results = []\n",
    "for name, model in models.items():\n",
    "    grid_search = GridSearchCV(\n",
    "        estimator=model,\n",
    "        param_grid=param_grids[name],\n",
    "        return_train_score=True,\n",
    "        scoring='balanced_accuracy',\n",
    "        cv=cv,\n",
    "    ).fit(X_train_scaled, y_train)\n",
    "    result = {\"model\": name, \"cv_results\": pd.DataFrame(grid_search.cv_results_)}\n",
    "    results.append(result)"
   ]
  },
  {
   "cell_type": "code",
   "execution_count": null,
   "id": "c0314fb4",
   "metadata": {},
   "outputs": [],
   "source": [
    "for result in results:\n",
    "    print(f\"Model: {result['model']}\")\n",
    "    cv_results = result['cv_results']\n",
    "        \n",
    "    best_index = cv_results['mean_test_score'].idxmax()\n",
    "    best_param = cv_results.loc[best_index, 'params']\n",
    "    print(f\"Best parameters: {best_param}\")\n",
    "    print(f\"Best CV score: {cv_results.loc[best_index, 'mean_test_score']}\\n\")"
   ]
  },
  {
   "cell_type": "code",
   "execution_count": null,
   "id": "a1cad39f",
   "metadata": {},
   "outputs": [],
   "source": [
    "# Fitting the Logistic Regression with the best selected parameters\n",
    "log_reg = LogisticRegression(penalty=best_param['penalty'], random_state=42, C=best_param['C'], max_iter=10000, \n",
    "                             class_weight='balanced',solver='liblinear')\n",
    "log_reg.fit(X_train_scaled, y_train) \n",
    "\n",
    "scores = cross_validate(log_reg, X_train_scaled, y_train, cv=kf, scoring=('balanced_accuracy','f1','precision','recall','accuracy'))\n",
    "print('Accuracy:',np.mean(scores['test_accuracy']))\n",
    "print('Balanced_accuracy:',np.mean(scores['test_balanced_accuracy']))\n",
    "print('F1_score:',np.mean(scores['test_f1']))\n",
    "print('Precision:',np.mean(scores['test_precision']))\n",
    "print('Recall:',np.mean(scores['test_recall']))"
   ]
  },
  {
   "cell_type": "code",
   "execution_count": null,
   "id": "31fef39b",
   "metadata": {},
   "outputs": [],
   "source": [
    "# Compute the normalized confusion matrix of the Logistic Regression of the Cross Validation\n",
    "y_train_pred = cross_val_predict(log_reg, X_train_scaled, y_train, cv=kf)\n",
    "\n",
    "cm_log_reg =confusion_matrix(y_train, y_train_pred, normalize='true')\n",
    "disp = ConfusionMatrixDisplay(cm_log_reg,display_labels=log_reg.classes_)\n",
    "disp.plot(cmap='Blues')"
   ]
  },
  {
   "cell_type": "markdown",
   "id": "17c017bf-93f3-4340-925b-73fa794434ea",
   "metadata": {},
   "source": [
    "## SGD Classifier"
   ]
  },
  {
   "cell_type": "markdown",
   "id": "212a78af",
   "metadata": {},
   "source": [
    "### GridSearch for Parameter Selection of SGD_Classifier\n",
    "We implement a GridSearch algorithm to select the best parameters for the SGD_Classifier by maximizing the balanced accuracy."
   ]
  },
  {
   "cell_type": "code",
   "execution_count": 70,
   "id": "e0df1714",
   "metadata": {},
   "outputs": [],
   "source": [
    "models = {\n",
    "    \"SGD Classifier\": SGDClassifier(random_state=42, penalty='l2', max_iter=100000, class_weight='balanced', n_jobs=-1,\n",
    "                                    early_stopping=True, validation_fraction=0.2)\n",
    "}\n",
    "\n",
    "param_grids = {\n",
    "    \"SGD Classifier\": {'alpha' : np.arange(0.5,1.5,0.05), 'loss' : ['hinge', 'squared_hinge','perceptron']}\n",
    "}\n",
    "\n",
    "cv = KFold(n_splits=4, shuffle=True, random_state=42)\n",
    "\n",
    "results = []\n",
    "for name, model in models.items():\n",
    "    grid_search = GridSearchCV(\n",
    "        estimator=model,\n",
    "        param_grid=param_grids[name],\n",
    "        return_train_score=True,\n",
    "        scoring='balanced_accuracy',\n",
    "        cv=cv,\n",
    "    ).fit(X_train_scaled, y_train)\n",
    "    result = {\"model\": name, \"cv_results\": pd.DataFrame(grid_search.cv_results_)}\n",
    "    results.append(result)\n"
   ]
  },
  {
   "cell_type": "code",
   "execution_count": null,
   "id": "bec36fe1",
   "metadata": {},
   "outputs": [],
   "source": [
    "for result in results:\n",
    "    print(f\"Model: {result['model']}\")\n",
    "    cv_results = result['cv_results']\n",
    "        \n",
    "    best_index = cv_results['mean_test_score'].idxmax()\n",
    "    best_param = cv_results.loc[best_index, 'params']\n",
    "    print(f\"Best parameters: {best_param}\")\n",
    "    print(f\"Best CV score: {cv_results.loc[best_index, 'mean_test_score']}\\n\")"
   ]
  },
  {
   "cell_type": "code",
   "execution_count": null,
   "id": "20ae53aa",
   "metadata": {},
   "outputs": [],
   "source": [
    "# Fitting the SGD_classifier with the best selected parameters\n",
    "sgd_reg=SGDClassifier(alpha=best_param['alpha'], loss=best_param['loss'],penalty='l2', random_state=42, max_iter=100000,\n",
    "                      class_weight='balanced', n_jobs=-1, early_stopping=True, validation_fraction=0.2) \n",
    "sgd_reg.fit(X_train_scaled,y_train)  \n",
    "\n",
    "scores = cross_validate(sgd_reg, X_train_scaled, y_train, cv=kf, scoring=('balanced_accuracy','f1','precision','recall','accuracy'))\n",
    "print('Accuracy:',np.mean(scores['test_accuracy']))\n",
    "print('Balanced_accuracy:',np.mean(scores['test_balanced_accuracy']))\n",
    "print('F1_score:',np.mean(scores['test_f1']))\n",
    "print('Precision:',np.mean(scores['test_precision']))\n",
    "print('Recall:',np.mean(scores['test_recall']))"
   ]
  },
  {
   "cell_type": "code",
   "execution_count": null,
   "id": "adce3ed3",
   "metadata": {},
   "outputs": [],
   "source": [
    "# Compute the normalized confusion matrix of the SGD_classifier of the Cross Validation\n",
    "y_train_pred = cross_val_predict(sgd_reg, X_train_scaled, y_train, cv=kf)\n",
    "\n",
    "cm_sgd_reg =confusion_matrix(y_train, y_train_pred, normalize='true')\n",
    "disp = ConfusionMatrixDisplay(cm_sgd_reg,display_labels=sgd_reg.classes_)\n",
    "disp.plot(cmap='Blues')"
   ]
  },
  {
   "cell_type": "markdown",
   "id": "5f6178b3-7503-46ce-812e-8cbc6ca95e44",
   "metadata": {},
   "source": [
    "## Support Vector Machine Classifier"
   ]
  },
  {
   "cell_type": "markdown",
   "id": "d1879ea2-004a-4817-99ea-3422aaf109c1",
   "metadata": {},
   "source": [
    "### GridSearch for Parameter Selection of SVC\n",
    "We implement a GridSearch algorithm to select the best parameters for the SVC by maximizing the balanced accuracy."
   ]
  },
  {
   "cell_type": "code",
   "execution_count": 74,
   "id": "3b00d30e-3bd9-44d2-9654-75b51d944b3c",
   "metadata": {},
   "outputs": [],
   "source": [
    "models = {\n",
    "    \"SVC\": SVC(random_state=42, class_weight='balanced')\n",
    "}\n",
    "\n",
    "param_grids = {\n",
    "    \"SVC\": {\"C\": (0.01, 0.1, 0.2), 'kernel': ['linear', 'poly', 'rbf'], 'degree':(3,4)}\n",
    "}\n",
    "\n",
    "cv = KFold(n_splits=5, shuffle=True, random_state=42)\n",
    "\n",
    "results = []\n",
    "for name, model in models.items():\n",
    "    grid_search = GridSearchCV(\n",
    "        estimator=model,\n",
    "        param_grid=param_grids[name],\n",
    "        return_train_score=True,\n",
    "        scoring='balanced_accuracy',\n",
    "        cv=cv,\n",
    "    ).fit(X_train_scaled, y_train)\n",
    "    result = {\"model\": name, \"cv_results\": pd.DataFrame(grid_search.cv_results_)}\n",
    "    results.append(result)"
   ]
  },
  {
   "cell_type": "code",
   "execution_count": null,
   "id": "61d67c60-f9bb-41ac-a0c1-d0c132496798",
   "metadata": {},
   "outputs": [],
   "source": [
    "for result in results:\n",
    "    print(f\"Model: {result['model']}\")\n",
    "    cv_results = result['cv_results']\n",
    "        \n",
    "    best_index = cv_results['mean_test_score'].idxmax()\n",
    "    best_param = cv_results.loc[best_index, 'params']\n",
    "    print(f\"Best parameters: {best_param}\")\n",
    "    print(f\"Best CV score: {cv_results.loc[best_index, 'mean_test_score']}\\n\")"
   ]
  },
  {
   "cell_type": "code",
   "execution_count": null,
   "id": "5a089bb5-2863-4bfc-ab70-bb1d25171def",
   "metadata": {},
   "outputs": [],
   "source": [
    "# Fitting the SVC with the best selected parameters\n",
    "svm_class=SVC(C=best_param['C'], kernel=best_param['kernel'], random_state=42, class_weight='balanced') \n",
    "svm_class.fit(X_train_scaled,y_train)    \n",
    "\n",
    "scores = cross_validate(svm_class, X_train_scaled, y_train, cv=kf, scoring=('balanced_accuracy','f1','precision','recall','accuracy'))\n",
    "print('Accuracy:',np.mean(scores['test_accuracy']))\n",
    "print('Balanced_accuracy:',np.mean(scores['test_balanced_accuracy']))\n",
    "print('F1_score:',np.mean(scores['test_f1']))\n",
    "print('Precision:',np.mean(scores['test_precision']))\n",
    "print('Recall:',np.mean(scores['test_recall']))"
   ]
  },
  {
   "cell_type": "code",
   "execution_count": null,
   "id": "618d7d4f-df72-4d70-9b83-868d3527414e",
   "metadata": {},
   "outputs": [],
   "source": [
    "# Compute the normalized confusion matrix of the SVC of the Cross Validation\n",
    "y_train_pred = cross_val_predict(svm_class, X_train_scaled, y_train, cv=kf)\n",
    "\n",
    "norm_CM_svm_class =confusion_matrix(y_train, y_train_pred, normalize='true')  #normalized with respect to the observations (%)\n",
    "disp = ConfusionMatrixDisplay(norm_CM_svm_class, display_labels=svm_class.classes_)\n",
    "disp.plot(cmap='Blues')"
   ]
  },
  {
   "cell_type": "markdown",
   "id": "93ad3250-dd33-4f99-8346-3b13c5495def",
   "metadata": {},
   "source": [
    "## Random Forest"
   ]
  },
  {
   "cell_type": "markdown",
   "id": "e101188e",
   "metadata": {},
   "source": [
    "### SMOTE"
   ]
  },
  {
   "cell_type": "code",
   "execution_count": 78,
   "id": "9e27cf7e",
   "metadata": {},
   "outputs": [],
   "source": [
    "from imblearn.over_sampling import SMOTE"
   ]
  },
  {
   "cell_type": "code",
   "execution_count": 79,
   "id": "036bdaa8",
   "metadata": {},
   "outputs": [],
   "source": [
    "desired_ratio = 0.2\n",
    "smote = SMOTE(random_state=42, sampling_strategy = desired_ratio)\n",
    " \n",
    "X_train_resampled, y_train_resampled = smote.fit_resample(X_train_imputed, y_train)\n"
   ]
  },
  {
   "cell_type": "code",
   "execution_count": 80,
   "id": "d9ac1287",
   "metadata": {},
   "outputs": [],
   "source": [
    "# We check if the resampled observations obtained with SMOTE are clinically consistent\n",
    "\n",
    "def check_SMOTE(df):\n",
    "    for i in range(len(df)):\n",
    "        if (df.loc[i, 'Intubation_flag'] == 0) & (df.loc[i, 'FiO2_changes']>1e-5):\n",
    "            print(df.loc[i, ['Patient_id']])\n",
    "\n",
    "        if (df.loc[i, 'Intubation_flag'] == 0) & (df.loc[i,'Respiratory_rate_changes']>1e-5):\n",
    "            print(df.loc[i, ['Patient_id']])\n",
    "\n",
    "        if (df.loc[i, 'Intubation_flag'] == 0) & (df.loc[i,'PEEP_changes']>1e-5):\n",
    "            print(df.loc[i, ['Patient_id']])\n",
    "        \n",
    "        if (df.loc[i, 'Intubation_flag'] == 0) & (df.loc[i,'Lung_Compliance']>1e-5):\n",
    "            print(df.loc[i, ['Patient_id']])\n",
    "\n",
    "        if (df.loc[i, 'Intubation_flag'] == 0) & (df.loc[i,'FiO2']>1e-5):\n",
    "            print(df.loc[i, ['Patient_id']])\n",
    "\n",
    "        if (df.loc[i, 'Norepinephrine_flag'] == 0) & (df.loc[i,'Norepinephrine_rate']>1e-5):\n",
    "            print(df.loc[i, ['Patient_id']])\n",
    "\n",
    "        if df.loc[i,['Admission_source_name_Emergency Room','Admission_source_name_From Community','Admission_source_name_From Home/Work',\n",
    "                'Admission_source_name_Hospital OP Dept/Amb Surgery Center','Admission_source_name_Information Unavailable',\n",
    "                'Admission_source_name_Internal Transfer','Admission_source_name_Other Healthcare Facility','Admission_source_name_Outpatient Testing',\n",
    "                'Admission_source_name_Outside Hospital','Admission_source_name_Rehab Facility (RIC)','Admission_source_name_Skilled Nursing Facility',\n",
    "                'Admission_source_name_Transfer from Acute Hospital']].sum() > 1:\n",
    "            print(df.loc[i, ['Patient_id']])\n",
    "\n",
    "        if df.loc[i,['Patient_category_Non-Pneumonia Control','Patient_category_Other Pneumonia','Patient_category_Other Viral Pneumonia']].sum() > 1:\n",
    "            print(df.loc[i, ['Patient_id']])\n",
    "\n",
    "        if df.loc[i,['Ethnicity_Not Hispanic or Latino', 'Ethnicity_Unknown or Not Reported']].sum() > 1:\n",
    "            print(df.loc[i, ['Patient_id']])\n",
    "\n",
    "        if df.loc[i,['Race_Black or African American','Race_Unknown or Not Reported', 'Race_White']].sum() > 1:\n",
    "            print(df.loc[i, ['Patient_id']])\n",
    "\n",
    "        if df.loc[i,['Smoking_status_Never Smoker', 'Smoking_status_Past Smoker','Smoking_status_Unknown Smoking Status']].sum() > 1:\n",
    "            print(df.loc[i, ['Patient_id']])\n",
    "\n",
    "        if df.loc[i,['Episode_category_CAP','Episode_category_HAP', 'Episode_category_Non-PNA-ctrl','Episode_category_VAP']].sum() > 1:\n",
    "            print(df.loc[i, ['Patient_id']])\n",
    "\n",
    "        if df.loc[i,['Episode_etiology_Bacterial/viral','Episode_etiology_Before-first-bal','Episode_etiology_Culture-negative', \n",
    "                'Episode_etiology_Indeterminate','Episode_etiology_Non-PNA-ctrl', 'Episode_etiology_Viral']].sum() > 1:\n",
    "            print(df.loc[i, ['Patient_id']])\n",
    "        \n",
    "\n",
    "check_SMOTE(X_train_resampled)"
   ]
  },
  {
   "cell_type": "markdown",
   "id": "bb032270",
   "metadata": {},
   "source": [
    "#### Grid Search for Parameter Selection of Random Forest + SMOTE"
   ]
  },
  {
   "cell_type": "code",
   "execution_count": null,
   "id": "130f77c3",
   "metadata": {},
   "outputs": [],
   "source": [
    "rnd_clf_smote = RandomForestClassifier(n_estimators=200, random_state=42, max_features=40, n_jobs=-1, class_weight = 'balanced')\n",
    "\n",
    "param_grid = {\n",
    "    'n_estimators': [100, 200, 300, 400, 500] \n",
    "}\n",
    "\n",
    "scoring = {\n",
    "    'accuracy': 'accuracy',\n",
    "    'balanced_accuracy': 'balanced_accuracy',\n",
    "    'f1': 'f1',\n",
    "    'precision': 'precision',\n",
    "    'recall': 'recall'\n",
    "}\n",
    "\n",
    "grid_search = GridSearchCV(estimator=rnd_clf_smote, param_grid=param_grid, cv=kf, scoring=scoring, refit='balanced_accuracy')\n",
    "grid_search.fit(X_train_resampled, y_train_resampled)\n",
    "\n",
    "print(\"Best parameter found:\")\n",
    "print(grid_search.best_params_)\n",
    "print(\"Best balanced accuracy score found:\", grid_search.best_score_)"
   ]
  },
  {
   "cell_type": "code",
   "execution_count": null,
   "id": "1dfeaa60",
   "metadata": {},
   "outputs": [],
   "source": [
    "# Fitting the RandomForestClassifier with the best selected parameters\n",
    "rnd_clf_smote = RandomForestClassifier(n_estimators=grid_search.best_params_['n_estimators'], random_state=42, max_features=40, n_jobs=-1, class_weight = 'balanced')\n",
    "rnd_clf_smote.fit(X_train_resampled, y_train_resampled)\n",
    "\n",
    "scores = cross_validate(rnd_clf_smote, X_train_resampled, y_train_resampled, cv=kf, scoring=('f1','precision','recall','balanced_accuracy','accuracy'))\n",
    " \n",
    "print('Accuracy:',np.mean(scores['test_accuracy']))\n",
    "print('Balanced_accuracy:',np.mean(scores['test_balanced_accuracy']))\n",
    "print('F1_score:',np.mean(scores['test_f1']))\n",
    "print('Precision:',np.mean(scores['test_precision']))\n",
    "print('Recall:',np.mean(scores['test_recall']))"
   ]
  },
  {
   "cell_type": "code",
   "execution_count": null,
   "id": "20929b8c",
   "metadata": {},
   "outputs": [],
   "source": [
    "# Compute the normalized confusion matrix of the RandomForestClassifier of the Cross Validation\n",
    "y_train_pred_smote = cross_val_predict(rnd_clf_smote, X_train_resampled, y_train_resampled, cv=kf)\n",
    "\n",
    "cm_smote =confusion_matrix(y_train_resampled, y_train_pred_smote, normalize='true')\n",
    "disp = ConfusionMatrixDisplay(cm_smote,display_labels=rnd_clf_smote.classes_)\n",
    "disp.plot(cmap='Blues')"
   ]
  },
  {
   "cell_type": "markdown",
   "id": "28f73f89",
   "metadata": {},
   "source": [
    "#### Evaluation on the test set"
   ]
  },
  {
   "cell_type": "code",
   "execution_count": null,
   "id": "bc4a8ad3",
   "metadata": {},
   "outputs": [],
   "source": [
    "y_pred_rf = rnd_clf_smote.predict(X_test_imputed)\n",
    "\n",
    "print('Accuracy:', accuracy_score(y_test, y_pred_rf))\n",
    "print('Balanced_accuracy:', balanced_accuracy_score(y_test, y_pred_rf))\n",
    "print('F1_score:', f1_score(y_test, y_pred_rf))\n",
    "print('Precision:', precision_score(y_test, y_pred_rf))\n",
    "print('Recall:', recall_score(y_test, y_pred_rf))\n",
    "print('AUC:', roc_auc_score(y_test, y_pred_rf))\n",
    "\n",
    "cm_log =confusion_matrix(y_test, y_pred_rf, normalize='true')\n",
    "disp = ConfusionMatrixDisplay(cm_log, display_labels=rnd_clf_smote.classes_)\n",
    "disp.plot(cmap='Blues')\n",
    "plt.title(f'Confusion matrix of SMOTE+RandomForest using test set')\n"
   ]
  },
  {
   "cell_type": "markdown",
   "id": "b597728d",
   "metadata": {},
   "source": [
    "# Comparison of the models"
   ]
  },
  {
   "cell_type": "code",
   "execution_count": null,
   "id": "4c17ab73",
   "metadata": {},
   "outputs": [],
   "source": [
    "#prediction of the scores\n",
    "y_scores = cross_val_predict(log_reg, X_train_scaled, y_train, cv=kf, method='decision_function') \n",
    "precisions,recalls, thresholds=precision_recall_curve(y_train,y_scores)\n",
    "\n",
    "y_scores1 = cross_val_predict(sgd_reg, X_train_scaled, y_train, cv=kf, method='decision_function') \n",
    "precisions1,recalls1, thresholds1=precision_recall_curve(y_train,y_scores1)\n",
    "\n",
    "y_scores2 = cross_val_predict(svm_class, X_train_scaled, y_train, cv=kf, method='decision_function') \n",
    "precisions2,recalls2, thresholds2=precision_recall_curve(y_train,y_scores2)\n",
    "\n",
    "#Plot the Precision-Recall graph\n",
    "plt.rc('figure', figsize=(8, 8))\n",
    "plt.plot(recalls, precisions, \"b-\", linewidth=2, label='logistic')\n",
    "plt.plot(recalls1, precisions1, \"r-\", linewidth=2, label='sgd')\n",
    "plt.plot(recalls2, precisions2, \"g-\", linewidth=2, label='svc')\n",
    "plt.xlabel(\"Recall\", fontsize=16)\n",
    "plt.ylabel(\"Precision\", fontsize=16)\n",
    "plt.axis([0, 1, 0, 1])\n",
    "plt.grid(True)\n",
    "plt.legend()\n"
   ]
  },
  {
   "cell_type": "code",
   "execution_count": null,
   "id": "f0a16a72",
   "metadata": {},
   "outputs": [],
   "source": [
    "#ROC curve\n",
    "fpr,tpr,thresholds = roc_curve(y_train,y_scores)\n",
    "fpr1,tpr1,thresholds1 = roc_curve(y_train,y_scores1)\n",
    "fpr2,tpr2,thresholds2 = roc_curve(y_train,y_scores2)\n",
    "\n",
    "plt.plot(fpr,tpr, \"b-\", linewidth=2, label='logistic')\n",
    "plt.plot(fpr1,tpr1, \"r-\", linewidth=2, label='sgd')\n",
    "plt.plot(fpr2,tpr2, \"g-\", linewidth=2, label='svc')\n",
    "plt.xlabel(\"false positive rate\", fontsize=16)\n",
    "plt.ylabel(\"True positive rate (recall)\", fontsize=16)\n",
    "plt.plot([0,1],[0,1],'k--')\n",
    "plt.axis([0, 1, 0, 1])\n",
    "plt.grid(True)\n",
    "plt.legend()"
   ]
  },
  {
   "cell_type": "code",
   "execution_count": null,
   "id": "fc6eadd8",
   "metadata": {},
   "outputs": [],
   "source": [
    "# Compute the AUC coefficient for each classifier\n",
    "print('AUC of Logistic Regression:',roc_auc_score(y_train, y_scores))\n",
    "print('AUC of SGD_Classifier:',roc_auc_score(y_train, y_scores1))\n",
    "print('AUC of SVC:',roc_auc_score(y_train, y_scores2))"
   ]
  },
  {
   "cell_type": "code",
   "execution_count": null,
   "id": "be1116a0",
   "metadata": {},
   "outputs": [],
   "source": [
    "fig, axes = plt.subplots(nrows=1, ncols=3, figsize = (18,6))\n",
    "\n",
    "# logistic regression\n",
    "y_test_pred = log_reg.predict(X_test_scaled)\n",
    "cm_log =confusion_matrix(y_test, y_test_pred, normalize='true')  #normalized with respect to the observations (%)\n",
    "disp = ConfusionMatrixDisplay(cm_log, display_labels=log_reg.classes_)\n",
    "disp.plot(cmap='Blues', ax=axes[0])\n",
    "axes[0].set_title(f'Confusion matrix from Logistic regression')\n",
    "\n",
    "# sgd\n",
    "y_test_pred = sgd_reg.predict(X_test_scaled)\n",
    "cm_sgd =confusion_matrix(y_test, y_test_pred, normalize='true')  #normalized with respect to the observations (%)\n",
    "disp = ConfusionMatrixDisplay(cm_sgd, display_labels=sgd_reg.classes_)\n",
    "disp.plot(cmap='Blues', ax=axes[1])\n",
    "axes[1].set_title(f'Confusion matrix from SGD')\n",
    "\n",
    "# svm\n",
    "y_test_pred = svm_class.predict(X_test_scaled)\n",
    "cm_svm =confusion_matrix(y_test, y_test_pred, normalize='true')  #normalized with respect to the observations (%)\n",
    "disp = ConfusionMatrixDisplay(cm_svm, display_labels=svm_class.classes_)\n",
    "disp.plot(cmap='Blues', ax=axes[2])\n",
    "axes[2].set_title(f'Confusion matrix from SVM')\n",
    "\n"
   ]
  },
  {
   "cell_type": "markdown",
   "id": "813f9417-9947-4d90-ab4d-9f58a605d788",
   "metadata": {},
   "source": [
    "# Feature Selection\n",
    "After fitting the complete model, we decide to select a subset of significant features in order to reduce the dimensionality of the model."
   ]
  },
  {
   "cell_type": "code",
   "execution_count": 89,
   "id": "6e938304",
   "metadata": {},
   "outputs": [],
   "source": [
    "def feature_selection(X, y, model, selector):\n",
    "    skf = StratifiedKFold(n_splits=5, shuffle=True, random_state=42)\n",
    "    \n",
    "    selector.fit(X, y)\n",
    "    X_selected = selector.transform(X)\n",
    "    \n",
    "    scores = cross_validate(model, X_selected, y, cv=skf, scoring=('balanced_accuracy','f1','precision','recall','accuracy','roc_auc'))\n",
    "    print('Accuracy:', np.mean(scores['test_accuracy']))\n",
    "    print('Balanced_accuracy:', np.mean(scores['test_balanced_accuracy']))\n",
    "    print('F1_score:', np.mean(scores['test_f1']))\n",
    "    print('Precision:', np.mean(scores['test_precision']))\n",
    "    print('Recall:', np.mean(scores['test_recall']))\n",
    "    print('AUC:', np.mean(scores['test_roc_auc']))\n",
    "        \n",
    "    selected_features = selector.get_support()\n",
    "    selected_feature_names = np.array(X.columns)[selected_features]\n",
    "    \n",
    "    print(f'Selected features: {selected_feature_names}')\n",
    "    return selected_feature_names\n"
   ]
  },
  {
   "cell_type": "markdown",
   "id": "bae090ee",
   "metadata": {},
   "source": [
    "## SelectFromModel Selector"
   ]
  },
  {
   "cell_type": "code",
   "execution_count": null,
   "id": "2413b5a6",
   "metadata": {},
   "outputs": [],
   "source": [
    "# We use the penalty 'l1' so the function removes the useless variables selected by the model\n",
    "selector_logistic = SelectFromModel(log_reg, threshold=None, prefit=True)\n",
    "selected_feat_log = feature_selection(X_train_scaled, y_train, log_reg, selector_logistic)\n",
    "print('Total number of selected features:', selected_feat_log.shape[0])"
   ]
  },
  {
   "cell_type": "markdown",
   "id": "4188ba80",
   "metadata": {},
   "source": [
    "## Filter methods\n",
    "We use some filter methods in order to rank the features with respect to their significance for the classification model. In particular, we deploy ANOVA F-Value and Mutual Information."
   ]
  },
  {
   "cell_type": "code",
   "execution_count": null,
   "id": "cf0f25ef",
   "metadata": {},
   "outputs": [],
   "source": [
    "# We can plot the scores of the variables with respect to f_classif and mutual_info_classif\n",
    "def plot_feature_scores(X, y, score_func, threshold, k=10):\n",
    "    selector = SelectKBest(score_func=score_func, k=k)\n",
    "    selector.fit(X, y)\n",
    "    \n",
    "    scores = selector.scores_\n",
    "    \n",
    "    feature_scores = pd.DataFrame({'Feature': X.columns, 'Score': scores})\n",
    "    feature_scores = feature_scores.sort_values(by='Score', ascending=False)\n",
    "    feature_scores = feature_scores[feature_scores['Score'] > threshold]\n",
    "\n",
    "    plt.figure(figsize=(12, 10))\n",
    "    plt.barh(feature_scores['Feature'], feature_scores['Score'], color='skyblue')\n",
    "    plt.xlabel('Score')\n",
    "    plt.ylabel('Feature')\n",
    "    plt.title(f'Feature Scores using {score_func.__name__}')\n",
    "    plt.gca().invert_yaxis()\n",
    "    plt.show()\n",
    "\n",
    "\n",
    "# Plot the scores wrt ANOVA F-statistic\n",
    "plot_feature_scores(X_train_scaled[selected_feat_log], y_train, score_func=f_classif,threshold=2, k=10)\n",
    "\n",
    "# Plot the scores wrt Mutual Information Coefficient\n",
    "plot_feature_scores(X_train_scaled[selected_feat_log], y_train, score_func=mutual_info_classif,threshold=0.001,k=10)\n"
   ]
  },
  {
   "cell_type": "code",
   "execution_count": 92,
   "id": "1e559445",
   "metadata": {},
   "outputs": [],
   "source": [
    "# Grid_search algorithm to select the best number of features to maximize the balanced accuracy\n",
    "def grid_search_selectkbest(X, y, model, score_func, k_values, cv=5):\n",
    "    best_score = -np.inf\n",
    "    best_k = None\n",
    "    best_selector = None\n",
    "    \n",
    "    for k in k_values:\n",
    "        selector = SelectKBest(score_func=score_func, k=k)\n",
    "        X_selected = selector.fit_transform(X, y)\n",
    "        \n",
    "        skf = StratifiedKFold(n_splits=cv, shuffle=True, random_state=42)\n",
    "        scores = cross_val_score(model, X_selected, y, cv=skf, scoring='balanced_accuracy')\n",
    "        mean_score = np.mean(scores)\n",
    "        \n",
    "        if mean_score > best_score:\n",
    "            best_score = mean_score\n",
    "            best_k = k\n",
    "            best_selector = selector\n",
    "    \n",
    "    # Return the best k value, the best score, and the selector with the best k\n",
    "    return best_k, best_score, best_selector"
   ]
  },
  {
   "cell_type": "code",
   "execution_count": null,
   "id": "dbe48853",
   "metadata": {},
   "outputs": [],
   "source": [
    "# GridSearch using f_classif selector\n",
    "k_values = list(range(1, selected_feat_log.shape[0] + 1)) \n",
    "\n",
    "best_k, best_score, best_selector = grid_search_selectkbest(X_train_scaled[selected_feat_log], y_train, log_reg, f_classif, k_values, cv=5)\n",
    "print(f'Best k: {best_k}')\n",
    "print(f'Best Balanced Accuracy: {best_score}')\n",
    "\n",
    "selected_feature_f = feature_selection(X_train_scaled[selected_feat_log], y_train, log_reg, best_selector)"
   ]
  },
  {
   "cell_type": "code",
   "execution_count": null,
   "id": "3b65faf9",
   "metadata": {},
   "outputs": [],
   "source": [
    "# GridSearch using mutual_info_classif selector\n",
    "k_values = list(range(1, selected_feat_log.shape[0] + 1))  \n",
    "\n",
    "best_k, best_score, best_selector = grid_search_selectkbest(X_train_scaled[selected_feat_log], y_train, log_reg, mutual_info_classif, k_values, cv=5)\n",
    "print(f'Best k: {best_k}')\n",
    "print(f'Best Balanced Accuracy: {best_score}')\n",
    "\n",
    "selected_feature_mutual = feature_selection(X_train_scaled[selected_feat_log], y_train, log_reg, best_selector)"
   ]
  },
  {
   "cell_type": "markdown",
   "id": "389899da",
   "metadata": {},
   "source": [
    "## SequentialFeatureSelector"
   ]
  },
  {
   "cell_type": "code",
   "execution_count": null,
   "id": "964e0411",
   "metadata": {},
   "outputs": [],
   "source": [
    "selector_sfs = SequentialFeatureSelector(log_reg, tol=0.05, direction='backward', n_features_to_select='auto',scoring='balanced_accuracy', n_jobs=-1)\n",
    "selected_feat_seq = feature_selection(X_train_scaled[selected_feat_log], y_train, log_reg, selector_sfs)\n",
    "print('Number of selected features:', selected_feat_seq.shape[0])"
   ]
  },
  {
   "cell_type": "markdown",
   "id": "7027e6fa",
   "metadata": {},
   "source": [
    "# Evaluation of the selected model\n",
    "We now use the test set for the evaluation of the final model, by computing th scores and the confusion matrix based on the predictions."
   ]
  },
  {
   "cell_type": "code",
   "execution_count": null,
   "id": "30ab2525",
   "metadata": {},
   "outputs": [],
   "source": [
    "# Logistic Regression with 'SelectFromModel'\n",
    "log_reg.fit(X_train_scaled, y_train)\n",
    "y_pred_complete = log_reg.predict(X_test_scaled)\n",
    "\n",
    "print('Accuracy:', accuracy_score(y_test, y_pred_complete))\n",
    "print('Balanced_accuracy:', balanced_accuracy_score(y_test, y_pred_complete))\n",
    "print('F1_score:', f1_score(y_test, y_pred_complete))\n",
    "print('Precision:', precision_score(y_test, y_pred_complete))\n",
    "print('Recall:', recall_score(y_test, y_pred_complete))\n",
    "print('AUC:', roc_auc_score(y_test, y_pred_complete))"
   ]
  },
  {
   "cell_type": "code",
   "execution_count": null,
   "id": "c984879e",
   "metadata": {},
   "outputs": [],
   "source": [
    "# Logistic Regression with 'SequentialFeatureSelector'\n",
    "log_reg.fit(X_train_scaled[selected_feat_seq], y_train)\n",
    "X_test_reduced1 = X_test_scaled[selected_feat_seq]\n",
    "y_pred_reduced1 = log_reg.predict(X_test_reduced1)\n",
    "\n",
    "print('Accuracy:', accuracy_score(y_test, y_pred_reduced1))\n",
    "print('Balanced_accuracy:', balanced_accuracy_score(y_test, y_pred_reduced1))\n",
    "print('F1_score:', f1_score(y_test, y_pred_reduced1))\n",
    "print('Precision:', precision_score(y_test, y_pred_reduced1))\n",
    "print('Recall:', recall_score(y_test, y_pred_reduced1))\n",
    "print('AUC:', roc_auc_score(y_test, y_pred_reduced1))"
   ]
  },
  {
   "cell_type": "code",
   "execution_count": null,
   "id": "142f1264",
   "metadata": {},
   "outputs": [],
   "source": [
    "# Logistic Regression with 'ANOVA-F'\n",
    "log_reg.fit(X_train_scaled[selected_feature_f], y_train)\n",
    "X_test_reduced2 = X_test_scaled[selected_feature_f]\n",
    "y_pred_reduced2 = log_reg.predict(X_test_reduced2)\n",
    "\n",
    "print('Accuracy:', accuracy_score(y_test, y_pred_reduced2))\n",
    "print('Balanced_accuracy:', balanced_accuracy_score(y_test, y_pred_reduced2))\n",
    "print('F1_score:', f1_score(y_test, y_pred_reduced2))\n",
    "print('Precision:', precision_score(y_test, y_pred_reduced2))\n",
    "print('Recall:', recall_score(y_test, y_pred_reduced2))\n",
    "print('AUC:', roc_auc_score(y_test, y_pred_reduced2))"
   ]
  },
  {
   "cell_type": "code",
   "execution_count": null,
   "id": "c64d1e2a",
   "metadata": {},
   "outputs": [],
   "source": [
    "# Logistic Regression with 'MUTUAL_INFO'\n",
    "log_reg.fit(X_train_scaled[selected_feature_mutual], y_train)\n",
    "coeff_mutual = log_reg.coef_\n",
    "X_test_reduced3 = X_test_scaled[selected_feature_mutual]\n",
    "y_pred_reduced3 = log_reg.predict(X_test_reduced3)\n",
    "\n",
    "print('Accuracy:', accuracy_score(y_test, y_pred_reduced3))\n",
    "print('Balanced_accuracy:', balanced_accuracy_score(y_test, y_pred_reduced3))\n",
    "print('F1_score:', f1_score(y_test, y_pred_reduced3))\n",
    "print('Precision:', precision_score(y_test, y_pred_reduced3))\n",
    "print('Recall:', recall_score(y_test, y_pred_reduced3))\n",
    "print('AUC:', roc_auc_score(y_test, y_pred_reduced3))"
   ]
  },
  {
   "cell_type": "code",
   "execution_count": null,
   "id": "63d478b4",
   "metadata": {},
   "outputs": [],
   "source": [
    "fig, axes = plt.subplots(nrows=2, ncols=2, figsize = (18,12))\n",
    "\n",
    "# Complete logistic model\n",
    "cm_log =confusion_matrix(y_test, y_pred_complete, normalize='true')  #normalized with respect to the observations (%)\n",
    "disp = ConfusionMatrixDisplay(cm_log, display_labels=log_reg.classes_)\n",
    "disp.plot(cmap='Blues', ax=axes[0,0])\n",
    "axes[0,0].set_title(f'Confusion matrix from Logistic regression with L1 penalty')\n",
    "\n",
    "# Reduced logistic model\n",
    "cm_log =confusion_matrix(y_test, y_pred_reduced1, normalize='true')  #normalized with respect to the observations (%)\n",
    "disp = ConfusionMatrixDisplay(cm_log, display_labels=log_reg.classes_)\n",
    "disp.plot(cmap='Blues', ax=axes[0,1])\n",
    "axes[0,1].set_title(f'Confusion matrix from Logistic regression + Backward selection')\n",
    "\n",
    "# Reduced logistic model\n",
    "cm_log =confusion_matrix(y_test, y_pred_reduced2, normalize='true')  #normalized with respect to the observations (%)\n",
    "disp = ConfusionMatrixDisplay(cm_log, display_labels=log_reg.classes_)\n",
    "disp.plot(cmap='Blues', ax=axes[1,0])\n",
    "axes[1,0].set_title(f'Confusion matrix from Logistic regression + ANOVA-F')\n",
    "\n",
    "# Reduced logistic model\n",
    "cm_log =confusion_matrix(y_test, y_pred_reduced3, normalize='true')  #normalized with respect to the observations (%)\n",
    "disp = ConfusionMatrixDisplay(cm_log, display_labels=log_reg.classes_)\n",
    "disp.plot(cmap='Blues', ax=axes[1,1])\n",
    "axes[1,1].set_title(f'Confusion matrix from Logistic regression + Mutual_info')\n",
    "\n",
    "plt.tight_layout()"
   ]
  },
  {
   "cell_type": "code",
   "execution_count": null,
   "id": "d0703973",
   "metadata": {},
   "outputs": [],
   "source": [
    "# Coefficients of significant variables of Logistic regression model with Mutual Information coefficient\n",
    "coeff_mutual = pd.DataFrame(coeff_mutual, columns=X_train_scaled[selected_feature_mutual].columns)\n",
    "coeff_mutual.loc[:, (coeff_mutual != 0).all(axis=0)]"
   ]
  },
  {
   "cell_type": "code",
   "execution_count": null,
   "id": "91e80380",
   "metadata": {},
   "outputs": [],
   "source": [
    "# features removed from complete Logistic regression model\n",
    "set(selected_feat_log) - set(selected_feature_mutual)"
   ]
  }
 ],
 "metadata": {
  "kernelspec": {
   "display_name": ".conda",
   "language": "python",
   "name": "python3"
  },
  "language_info": {
   "codemirror_mode": {
    "name": "ipython",
    "version": 3
   },
   "file_extension": ".py",
   "mimetype": "text/x-python",
   "name": "python",
   "nbconvert_exporter": "python",
   "pygments_lexer": "ipython3",
   "version": "3.8.19"
  }
 },
 "nbformat": 4,
 "nbformat_minor": 5
}
